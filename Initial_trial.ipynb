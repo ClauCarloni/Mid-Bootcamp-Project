{
 "cells": [
  {
   "cell_type": "markdown",
   "id": "7f8c94fc",
   "metadata": {},
   "source": [
    "# Classification Algorithm:\n",
    "\n",
    "Using logistic regression to understand the demographics and other characteristics of a bank customers' that accept a credit card offer and that do not accept a credit card.\n",
    "\n",
    "Data cleaning, wrangling and EDA on a database relative to an automobile portfolio from an insurance company. The goal is to analyze the data and define a model that fits to do predictions. The the variable 'total claim amount' should be considered as a target."
   ]
  },
  {
   "cell_type": "markdown",
   "id": "1b449d67",
   "metadata": {},
   "source": [
    "## 1. Importing used packages"
   ]
  },
  {
   "cell_type": "code",
   "execution_count": 1,
   "id": "14e42577",
   "metadata": {},
   "outputs": [
    {
     "name": "stdout",
     "output_type": "stream",
     "text": [
      "········\n"
     ]
    }
   ],
   "source": [
    "import pymysql\n",
    "from sqlalchemy import create_engine\n",
    "from scipy import stats\n",
    "from scipy.stats import chi2_contingency\n",
    "import pandas as pd\n",
    "import numpy as np\n",
    "import re\n",
    "import matplotlib.pyplot as plt\n",
    "import seaborn as sns\n",
    "from sklearn.model_selection import train_test_split\n",
    "from sklearn.linear_model import LogisticRegression\n",
    "from sklearn.metrics import confusion_matrix\n",
    "from sklearn.metrics import plot_confusion_matrix\n",
    "from sklearn.metrics import mean_absolute_error\n",
    "from sklearn.metrics import mean_squared_error\n",
    "from sklearn.metrics import r2_score\n",
    "from sklearn.preprocessing import StandardScaler\n",
    "from sklearn.preprocessing import OneHotEncoder\n",
    "from sklearn.model_selection import train_test_split\n",
    "from sklearn.neighbors import KNeighborsRegressor\n",
    "from sklearn.neighbors import KNeighborsClassifier\n",
    "from sklearn import metrics\n",
    "from sklearn.preprocessing import StandardScaler\n",
    "from imblearn.over_sampling import SMOTE\n",
    "from imblearn.under_sampling import TomekLinks\n",
    "from imblearn.over_sampling import SMOTE\n",
    "import getpass\n",
    "password = getpass.getpass()\n",
    "\n",
    "connection_string = 'mysql+pymysql://root:' + password + '@localhost/mid_project'\n",
    "engine = create_engine(connection_string)\n",
    "\n",
    "import warnings\n",
    "warnings.filterwarnings('ignore')"
   ]
  },
  {
   "cell_type": "markdown",
   "id": "2d6e61be",
   "metadata": {},
   "source": [
    "## 2. Getting Data"
   ]
  },
  {
   "cell_type": "code",
   "execution_count": 2,
   "id": "f90cb3cc",
   "metadata": {},
   "outputs": [
    {
     "data": {
      "text/html": [
       "<div>\n",
       "<style scoped>\n",
       "    .dataframe tbody tr th:only-of-type {\n",
       "        vertical-align: middle;\n",
       "    }\n",
       "\n",
       "    .dataframe tbody tr th {\n",
       "        vertical-align: top;\n",
       "    }\n",
       "\n",
       "    .dataframe thead th {\n",
       "        text-align: right;\n",
       "    }\n",
       "</style>\n",
       "<table border=\"1\" class=\"dataframe\">\n",
       "  <thead>\n",
       "    <tr style=\"text-align: right;\">\n",
       "      <th></th>\n",
       "      <th>ï»¿Customer Number</th>\n",
       "      <th>Offer Accepted</th>\n",
       "      <th>Reward</th>\n",
       "      <th>Mailer Type</th>\n",
       "      <th>Income Level</th>\n",
       "      <th># Bank Accounts Open</th>\n",
       "      <th>Overdraft Protection</th>\n",
       "      <th>Credit Rating</th>\n",
       "      <th># Credit Cards Held</th>\n",
       "      <th># Homes Owned</th>\n",
       "      <th>Household Size</th>\n",
       "      <th>Own Your Home</th>\n",
       "      <th>Average Balance</th>\n",
       "      <th>Q1 Balance</th>\n",
       "      <th>Q2 Balance</th>\n",
       "      <th>Q3 Balance</th>\n",
       "      <th>Q4 Balance</th>\n",
       "    </tr>\n",
       "  </thead>\n",
       "  <tbody>\n",
       "    <tr>\n",
       "      <th>0</th>\n",
       "      <td>1</td>\n",
       "      <td>No</td>\n",
       "      <td>Air Miles</td>\n",
       "      <td>Letter</td>\n",
       "      <td>High</td>\n",
       "      <td>1</td>\n",
       "      <td>No</td>\n",
       "      <td>High</td>\n",
       "      <td>2</td>\n",
       "      <td>1</td>\n",
       "      <td>4</td>\n",
       "      <td>No</td>\n",
       "      <td>1160.75</td>\n",
       "      <td>1669</td>\n",
       "      <td>877</td>\n",
       "      <td>1095</td>\n",
       "      <td>1002</td>\n",
       "    </tr>\n",
       "    <tr>\n",
       "      <th>1</th>\n",
       "      <td>2</td>\n",
       "      <td>No</td>\n",
       "      <td>Air Miles</td>\n",
       "      <td>Letter</td>\n",
       "      <td>Medium</td>\n",
       "      <td>1</td>\n",
       "      <td>No</td>\n",
       "      <td>Medium</td>\n",
       "      <td>2</td>\n",
       "      <td>2</td>\n",
       "      <td>5</td>\n",
       "      <td>Yes</td>\n",
       "      <td>147.25</td>\n",
       "      <td>39</td>\n",
       "      <td>106</td>\n",
       "      <td>78</td>\n",
       "      <td>366</td>\n",
       "    </tr>\n",
       "    <tr>\n",
       "      <th>2</th>\n",
       "      <td>3</td>\n",
       "      <td>No</td>\n",
       "      <td>Air Miles</td>\n",
       "      <td>Postcard</td>\n",
       "      <td>High</td>\n",
       "      <td>2</td>\n",
       "      <td>No</td>\n",
       "      <td>Medium</td>\n",
       "      <td>2</td>\n",
       "      <td>1</td>\n",
       "      <td>2</td>\n",
       "      <td>Yes</td>\n",
       "      <td>276.50</td>\n",
       "      <td>367</td>\n",
       "      <td>352</td>\n",
       "      <td>145</td>\n",
       "      <td>242</td>\n",
       "    </tr>\n",
       "    <tr>\n",
       "      <th>3</th>\n",
       "      <td>4</td>\n",
       "      <td>No</td>\n",
       "      <td>Air Miles</td>\n",
       "      <td>Letter</td>\n",
       "      <td>Medium</td>\n",
       "      <td>2</td>\n",
       "      <td>No</td>\n",
       "      <td>High</td>\n",
       "      <td>1</td>\n",
       "      <td>1</td>\n",
       "      <td>4</td>\n",
       "      <td>No</td>\n",
       "      <td>1219.00</td>\n",
       "      <td>1578</td>\n",
       "      <td>1760</td>\n",
       "      <td>1119</td>\n",
       "      <td>419</td>\n",
       "    </tr>\n",
       "    <tr>\n",
       "      <th>4</th>\n",
       "      <td>5</td>\n",
       "      <td>No</td>\n",
       "      <td>Air Miles</td>\n",
       "      <td>Letter</td>\n",
       "      <td>Medium</td>\n",
       "      <td>1</td>\n",
       "      <td>No</td>\n",
       "      <td>Medium</td>\n",
       "      <td>2</td>\n",
       "      <td>1</td>\n",
       "      <td>6</td>\n",
       "      <td>Yes</td>\n",
       "      <td>1211.00</td>\n",
       "      <td>2140</td>\n",
       "      <td>1357</td>\n",
       "      <td>982</td>\n",
       "      <td>365</td>\n",
       "    </tr>\n",
       "    <tr>\n",
       "      <th>...</th>\n",
       "      <td>...</td>\n",
       "      <td>...</td>\n",
       "      <td>...</td>\n",
       "      <td>...</td>\n",
       "      <td>...</td>\n",
       "      <td>...</td>\n",
       "      <td>...</td>\n",
       "      <td>...</td>\n",
       "      <td>...</td>\n",
       "      <td>...</td>\n",
       "      <td>...</td>\n",
       "      <td>...</td>\n",
       "      <td>...</td>\n",
       "      <td>...</td>\n",
       "      <td>...</td>\n",
       "      <td>...</td>\n",
       "      <td>...</td>\n",
       "    </tr>\n",
       "    <tr>\n",
       "      <th>17971</th>\n",
       "      <td>17996</td>\n",
       "      <td>No</td>\n",
       "      <td>Cash Back</td>\n",
       "      <td>Letter</td>\n",
       "      <td>High</td>\n",
       "      <td>1</td>\n",
       "      <td>No</td>\n",
       "      <td>Low</td>\n",
       "      <td>1</td>\n",
       "      <td>1</td>\n",
       "      <td>5</td>\n",
       "      <td>Yes</td>\n",
       "      <td>167.50</td>\n",
       "      <td>136</td>\n",
       "      <td>65</td>\n",
       "      <td>71</td>\n",
       "      <td>398</td>\n",
       "    </tr>\n",
       "    <tr>\n",
       "      <th>17972</th>\n",
       "      <td>17997</td>\n",
       "      <td>No</td>\n",
       "      <td>Cash Back</td>\n",
       "      <td>Letter</td>\n",
       "      <td>High</td>\n",
       "      <td>1</td>\n",
       "      <td>No</td>\n",
       "      <td>Low</td>\n",
       "      <td>3</td>\n",
       "      <td>1</td>\n",
       "      <td>3</td>\n",
       "      <td>Yes</td>\n",
       "      <td>850.50</td>\n",
       "      <td>984</td>\n",
       "      <td>940</td>\n",
       "      <td>943</td>\n",
       "      <td>535</td>\n",
       "    </tr>\n",
       "    <tr>\n",
       "      <th>17973</th>\n",
       "      <td>17998</td>\n",
       "      <td>No</td>\n",
       "      <td>Cash Back</td>\n",
       "      <td>Letter</td>\n",
       "      <td>High</td>\n",
       "      <td>1</td>\n",
       "      <td>No</td>\n",
       "      <td>Low</td>\n",
       "      <td>2</td>\n",
       "      <td>1</td>\n",
       "      <td>4</td>\n",
       "      <td>No</td>\n",
       "      <td>1087.25</td>\n",
       "      <td>918</td>\n",
       "      <td>767</td>\n",
       "      <td>1170</td>\n",
       "      <td>1494</td>\n",
       "    </tr>\n",
       "    <tr>\n",
       "      <th>17974</th>\n",
       "      <td>17999</td>\n",
       "      <td>No</td>\n",
       "      <td>Cash Back</td>\n",
       "      <td>Letter</td>\n",
       "      <td>Medium</td>\n",
       "      <td>1</td>\n",
       "      <td>No</td>\n",
       "      <td>Medium</td>\n",
       "      <td>4</td>\n",
       "      <td>2</td>\n",
       "      <td>2</td>\n",
       "      <td>Yes</td>\n",
       "      <td>1022.25</td>\n",
       "      <td>626</td>\n",
       "      <td>983</td>\n",
       "      <td>865</td>\n",
       "      <td>1615</td>\n",
       "    </tr>\n",
       "    <tr>\n",
       "      <th>17975</th>\n",
       "      <td>18000</td>\n",
       "      <td>No</td>\n",
       "      <td>Cash Back</td>\n",
       "      <td>Letter</td>\n",
       "      <td>Low</td>\n",
       "      <td>2</td>\n",
       "      <td>No</td>\n",
       "      <td>Medium</td>\n",
       "      <td>2</td>\n",
       "      <td>1</td>\n",
       "      <td>3</td>\n",
       "      <td>No</td>\n",
       "      <td>1056.00</td>\n",
       "      <td>265</td>\n",
       "      <td>1378</td>\n",
       "      <td>1978</td>\n",
       "      <td>603</td>\n",
       "    </tr>\n",
       "  </tbody>\n",
       "</table>\n",
       "<p>17976 rows × 17 columns</p>\n",
       "</div>"
      ],
      "text/plain": [
       "       ï»¿Customer Number Offer Accepted     Reward Mailer Type Income Level  \\\n",
       "0                       1             No  Air Miles      Letter         High   \n",
       "1                       2             No  Air Miles      Letter       Medium   \n",
       "2                       3             No  Air Miles    Postcard         High   \n",
       "3                       4             No  Air Miles      Letter       Medium   \n",
       "4                       5             No  Air Miles      Letter       Medium   \n",
       "...                   ...            ...        ...         ...          ...   \n",
       "17971               17996             No  Cash Back      Letter         High   \n",
       "17972               17997             No  Cash Back      Letter         High   \n",
       "17973               17998             No  Cash Back      Letter         High   \n",
       "17974               17999             No  Cash Back      Letter       Medium   \n",
       "17975               18000             No  Cash Back      Letter          Low   \n",
       "\n",
       "       # Bank Accounts Open Overdraft Protection Credit Rating  \\\n",
       "0                         1                   No          High   \n",
       "1                         1                   No        Medium   \n",
       "2                         2                   No        Medium   \n",
       "3                         2                   No          High   \n",
       "4                         1                   No        Medium   \n",
       "...                     ...                  ...           ...   \n",
       "17971                     1                   No           Low   \n",
       "17972                     1                   No           Low   \n",
       "17973                     1                   No           Low   \n",
       "17974                     1                   No        Medium   \n",
       "17975                     2                   No        Medium   \n",
       "\n",
       "       # Credit Cards Held  # Homes Owned  Household Size Own Your Home  \\\n",
       "0                        2              1               4            No   \n",
       "1                        2              2               5           Yes   \n",
       "2                        2              1               2           Yes   \n",
       "3                        1              1               4            No   \n",
       "4                        2              1               6           Yes   \n",
       "...                    ...            ...             ...           ...   \n",
       "17971                    1              1               5           Yes   \n",
       "17972                    3              1               3           Yes   \n",
       "17973                    2              1               4            No   \n",
       "17974                    4              2               2           Yes   \n",
       "17975                    2              1               3            No   \n",
       "\n",
       "       Average Balance  Q1 Balance  Q2 Balance  Q3 Balance  Q4 Balance  \n",
       "0              1160.75        1669         877        1095        1002  \n",
       "1               147.25          39         106          78         366  \n",
       "2               276.50         367         352         145         242  \n",
       "3              1219.00        1578        1760        1119         419  \n",
       "4              1211.00        2140        1357         982         365  \n",
       "...                ...         ...         ...         ...         ...  \n",
       "17971           167.50         136          65          71         398  \n",
       "17972           850.50         984         940         943         535  \n",
       "17973          1087.25         918         767        1170        1494  \n",
       "17974          1022.25         626         983         865        1615  \n",
       "17975          1056.00         265        1378        1978         603  \n",
       "\n",
       "[17976 rows x 17 columns]"
      ]
     },
     "execution_count": 2,
     "metadata": {},
     "output_type": "execute_result"
    }
   ],
   "source": [
    "query = '''SELECT *\n",
    "           FROM creditcardmarketing\n",
    "           ;'''\n",
    "\n",
    "data = pd.read_sql_query(query, engine)\n",
    "data"
   ]
  },
  {
   "cell_type": "markdown",
   "id": "df069775",
   "metadata": {},
   "source": [
    "## 3. Cleaning/Wrangling/EDA\n",
    "\n",
    "- Change headers names.\n",
    "- Deal with NaN values.\n",
    "- Categorical Features.\n",
    "- Numerical Features.\n",
    "- Exploration."
   ]
  },
  {
   "cell_type": "code",
   "execution_count": 3,
   "id": "527fe0e8",
   "metadata": {},
   "outputs": [
    {
     "data": {
      "text/plain": [
       "((17976, 17),\n",
       " ï»¿Customer Number        int64\n",
       " Offer Accepted           object\n",
       " Reward                   object\n",
       " Mailer Type              object\n",
       " Income Level             object\n",
       " # Bank Accounts Open      int64\n",
       " Overdraft Protection     object\n",
       " Credit Rating            object\n",
       " # Credit Cards Held       int64\n",
       " # Homes Owned             int64\n",
       " Household Size            int64\n",
       " Own Your Home            object\n",
       " Average Balance         float64\n",
       " Q1 Balance                int64\n",
       " Q2 Balance                int64\n",
       " Q3 Balance                int64\n",
       " Q4 Balance                int64\n",
       " dtype: object)"
      ]
     },
     "execution_count": 3,
     "metadata": {},
     "output_type": "execute_result"
    }
   ],
   "source": [
    "data.shape, data.dtypes"
   ]
  },
  {
   "cell_type": "markdown",
   "id": "82b6f8e1",
   "metadata": {},
   "source": [
    "### 3.1. Creating a function to clean the headers\n",
    "- Renaming the columns so they follow the PE8 (snake case)\n",
    "- Renaming the columns taking out non alphanumeric characters"
   ]
  },
  {
   "cell_type": "code",
   "execution_count": 4,
   "id": "1e10e793",
   "metadata": {},
   "outputs": [],
   "source": [
    "def clean_header(df):\n",
    "        pattern = '[\\W]'\n",
    "        df.columns = [x.lower().replace(\" \", \"_\") for x in df.columns]\n",
    "        df.columns = [re.sub(pattern, \"\", x) for x in df.columns]\n",
    "        return df"
   ]
  },
  {
   "cell_type": "code",
   "execution_count": 5,
   "id": "f68e4455",
   "metadata": {},
   "outputs": [],
   "source": [
    "# Another way to clean the headers:\n",
    "def clean_headers(df):\n",
    "    df.columns = [x.lower().replace(\" \", \"_\") for x in df.columns]\n",
    "    num = ['0', '1', '2', '3', '4', '5', '6', '7', '8', '9']\n",
    "    char = ['a', 'b', 'c', 'd', 'e', 'f', 'g', 'h', 'i', 'j', 'k', 'l', 'm'\n",
    "            , 'n', 'o', 'p', 'q', 'r', 's', 't', 'u', 'v', 'w', 'x', 'y', 'z']\n",
    "    keep = ['_']\n",
    "    cols = df.columns\n",
    "    new_col_names = []\n",
    "    for col in cols:\n",
    "        new_col = ''\n",
    "        for alphabet in col:\n",
    "            if (alphabet in num) or (alphabet in char) or (alphabet in keep):\n",
    "                new_col += alphabet\n",
    "        new_col_names.append(new_col)\n",
    "\n",
    "    df.columns = new_col_names\n",
    "    return df"
   ]
  },
  {
   "cell_type": "code",
   "execution_count": 6,
   "id": "048000a5",
   "metadata": {
    "scrolled": true
   },
   "outputs": [
    {
     "data": {
      "text/plain": [
       "Index(['customer_number', 'offer_accepted', 'reward', 'mailer_type',\n",
       "       'income_level', '_bank_accounts_open', 'overdraft_protection',\n",
       "       'credit_rating', '_credit_cards_held', '_homes_owned', 'household_size',\n",
       "       'own_your_home', 'average_balance', 'q1_balance', 'q2_balance',\n",
       "       'q3_balance', 'q4_balance'],\n",
       "      dtype='object')"
      ]
     },
     "execution_count": 6,
     "metadata": {},
     "output_type": "execute_result"
    }
   ],
   "source": [
    "data = clean_headers(data) #or clean_header(data)\n",
    "data.columns\n",
    "\n",
    "# If using the function clean_header(data)\n",
    "# it would be also necessary rename the remaining column with the character 'ï':\n",
    "# data.rename(columns={'ïcustomer_number':'customer_number'}, inplace=True)"
   ]
  },
  {
   "cell_type": "markdown",
   "id": "cac64729",
   "metadata": {},
   "source": [
    "### 3.2. NaN values"
   ]
  },
  {
   "cell_type": "code",
   "execution_count": 7,
   "id": "5d2c2b5e",
   "metadata": {},
   "outputs": [
    {
     "data": {
      "text/plain": [
       "customer_number         0\n",
       "offer_accepted          0\n",
       "reward                  0\n",
       "mailer_type             0\n",
       "income_level            0\n",
       "_bank_accounts_open     0\n",
       "overdraft_protection    0\n",
       "credit_rating           0\n",
       "_credit_cards_held      0\n",
       "_homes_owned            0\n",
       "household_size          0\n",
       "own_your_home           0\n",
       "average_balance         0\n",
       "q1_balance              0\n",
       "q2_balance              0\n",
       "q3_balance              0\n",
       "q4_balance              0\n",
       "dtype: int64"
      ]
     },
     "execution_count": 7,
     "metadata": {},
     "output_type": "execute_result"
    }
   ],
   "source": [
    "# Checking NaN values\n",
    "data.isna().sum()"
   ]
  },
  {
   "cell_type": "markdown",
   "id": "a928de8f",
   "metadata": {},
   "source": [
    "### 3.3. Numerical Features"
   ]
  },
  {
   "cell_type": "code",
   "execution_count": 8,
   "id": "89054465",
   "metadata": {},
   "outputs": [
    {
     "data": {
      "text/html": [
       "<div>\n",
       "<style scoped>\n",
       "    .dataframe tbody tr th:only-of-type {\n",
       "        vertical-align: middle;\n",
       "    }\n",
       "\n",
       "    .dataframe tbody tr th {\n",
       "        vertical-align: top;\n",
       "    }\n",
       "\n",
       "    .dataframe thead th {\n",
       "        text-align: right;\n",
       "    }\n",
       "</style>\n",
       "<table border=\"1\" class=\"dataframe\">\n",
       "  <thead>\n",
       "    <tr style=\"text-align: right;\">\n",
       "      <th></th>\n",
       "      <th>count</th>\n",
       "      <th>mean</th>\n",
       "      <th>std</th>\n",
       "      <th>min</th>\n",
       "      <th>25%</th>\n",
       "      <th>50%</th>\n",
       "      <th>75%</th>\n",
       "      <th>max</th>\n",
       "    </tr>\n",
       "  </thead>\n",
       "  <tbody>\n",
       "    <tr>\n",
       "      <th>customer_number</th>\n",
       "      <td>17976.0</td>\n",
       "      <td>8999.73</td>\n",
       "      <td>5196.96</td>\n",
       "      <td>1.00</td>\n",
       "      <td>4498.75</td>\n",
       "      <td>9000.5</td>\n",
       "      <td>13501.25</td>\n",
       "      <td>18000.00</td>\n",
       "    </tr>\n",
       "    <tr>\n",
       "      <th>_bank_accounts_open</th>\n",
       "      <td>17976.0</td>\n",
       "      <td>1.26</td>\n",
       "      <td>0.47</td>\n",
       "      <td>1.00</td>\n",
       "      <td>1.00</td>\n",
       "      <td>1.0</td>\n",
       "      <td>1.00</td>\n",
       "      <td>3.00</td>\n",
       "    </tr>\n",
       "    <tr>\n",
       "      <th>_credit_cards_held</th>\n",
       "      <td>17976.0</td>\n",
       "      <td>1.90</td>\n",
       "      <td>0.80</td>\n",
       "      <td>1.00</td>\n",
       "      <td>1.00</td>\n",
       "      <td>2.0</td>\n",
       "      <td>2.00</td>\n",
       "      <td>4.00</td>\n",
       "    </tr>\n",
       "    <tr>\n",
       "      <th>_homes_owned</th>\n",
       "      <td>17976.0</td>\n",
       "      <td>1.20</td>\n",
       "      <td>0.43</td>\n",
       "      <td>1.00</td>\n",
       "      <td>1.00</td>\n",
       "      <td>1.0</td>\n",
       "      <td>1.00</td>\n",
       "      <td>3.00</td>\n",
       "    </tr>\n",
       "    <tr>\n",
       "      <th>household_size</th>\n",
       "      <td>17976.0</td>\n",
       "      <td>3.50</td>\n",
       "      <td>1.11</td>\n",
       "      <td>1.00</td>\n",
       "      <td>3.00</td>\n",
       "      <td>3.0</td>\n",
       "      <td>4.00</td>\n",
       "      <td>9.00</td>\n",
       "    </tr>\n",
       "    <tr>\n",
       "      <th>average_balance</th>\n",
       "      <td>17976.0</td>\n",
       "      <td>940.52</td>\n",
       "      <td>350.30</td>\n",
       "      <td>48.25</td>\n",
       "      <td>787.50</td>\n",
       "      <td>1007.0</td>\n",
       "      <td>1153.25</td>\n",
       "      <td>3366.25</td>\n",
       "    </tr>\n",
       "    <tr>\n",
       "      <th>q1_balance</th>\n",
       "      <td>17976.0</td>\n",
       "      <td>910.45</td>\n",
       "      <td>620.08</td>\n",
       "      <td>0.00</td>\n",
       "      <td>392.75</td>\n",
       "      <td>772.0</td>\n",
       "      <td>1521.00</td>\n",
       "      <td>3450.00</td>\n",
       "    </tr>\n",
       "    <tr>\n",
       "      <th>q2_balance</th>\n",
       "      <td>17976.0</td>\n",
       "      <td>999.39</td>\n",
       "      <td>457.40</td>\n",
       "      <td>0.00</td>\n",
       "      <td>663.00</td>\n",
       "      <td>1032.0</td>\n",
       "      <td>1342.00</td>\n",
       "      <td>3421.00</td>\n",
       "    </tr>\n",
       "    <tr>\n",
       "      <th>q3_balance</th>\n",
       "      <td>17976.0</td>\n",
       "      <td>1042.03</td>\n",
       "      <td>553.45</td>\n",
       "      <td>0.00</td>\n",
       "      <td>633.00</td>\n",
       "      <td>945.5</td>\n",
       "      <td>1463.00</td>\n",
       "      <td>3823.00</td>\n",
       "    </tr>\n",
       "    <tr>\n",
       "      <th>q4_balance</th>\n",
       "      <td>17976.0</td>\n",
       "      <td>810.19</td>\n",
       "      <td>559.00</td>\n",
       "      <td>0.00</td>\n",
       "      <td>363.00</td>\n",
       "      <td>703.0</td>\n",
       "      <td>1212.00</td>\n",
       "      <td>4215.00</td>\n",
       "    </tr>\n",
       "  </tbody>\n",
       "</table>\n",
       "</div>"
      ],
      "text/plain": [
       "                       count     mean      std    min      25%     50%  \\\n",
       "customer_number      17976.0  8999.73  5196.96   1.00  4498.75  9000.5   \n",
       "_bank_accounts_open  17976.0     1.26     0.47   1.00     1.00     1.0   \n",
       "_credit_cards_held   17976.0     1.90     0.80   1.00     1.00     2.0   \n",
       "_homes_owned         17976.0     1.20     0.43   1.00     1.00     1.0   \n",
       "household_size       17976.0     3.50     1.11   1.00     3.00     3.0   \n",
       "average_balance      17976.0   940.52   350.30  48.25   787.50  1007.0   \n",
       "q1_balance           17976.0   910.45   620.08   0.00   392.75   772.0   \n",
       "q2_balance           17976.0   999.39   457.40   0.00   663.00  1032.0   \n",
       "q3_balance           17976.0  1042.03   553.45   0.00   633.00   945.5   \n",
       "q4_balance           17976.0   810.19   559.00   0.00   363.00   703.0   \n",
       "\n",
       "                          75%       max  \n",
       "customer_number      13501.25  18000.00  \n",
       "_bank_accounts_open      1.00      3.00  \n",
       "_credit_cards_held       2.00      4.00  \n",
       "_homes_owned             1.00      3.00  \n",
       "household_size           4.00      9.00  \n",
       "average_balance       1153.25   3366.25  \n",
       "q1_balance            1521.00   3450.00  \n",
       "q2_balance            1342.00   3421.00  \n",
       "q3_balance            1463.00   3823.00  \n",
       "q4_balance            1212.00   4215.00  "
      ]
     },
     "execution_count": 8,
     "metadata": {},
     "output_type": "execute_result"
    }
   ],
   "source": [
    "# summary of the data\n",
    "data.describe().T.apply(lambda x: round(x,2))"
   ]
  },
  {
   "cell_type": "code",
   "execution_count": 9,
   "id": "c12b3b90",
   "metadata": {},
   "outputs": [
    {
     "name": "stdout",
     "output_type": "stream",
     "text": [
      "17976\n"
     ]
    }
   ],
   "source": [
    "print(data['customer_number'].nunique())"
   ]
  },
  {
   "cell_type": "code",
   "execution_count": 10,
   "id": "9d94e99e",
   "metadata": {},
   "outputs": [
    {
     "data": {
      "text/html": [
       "<div>\n",
       "<style scoped>\n",
       "    .dataframe tbody tr th:only-of-type {\n",
       "        vertical-align: middle;\n",
       "    }\n",
       "\n",
       "    .dataframe tbody tr th {\n",
       "        vertical-align: top;\n",
       "    }\n",
       "\n",
       "    .dataframe thead th {\n",
       "        text-align: right;\n",
       "    }\n",
       "</style>\n",
       "<table border=\"1\" class=\"dataframe\">\n",
       "  <thead>\n",
       "    <tr style=\"text-align: right;\">\n",
       "      <th></th>\n",
       "      <th>offer_accepted</th>\n",
       "      <th>reward</th>\n",
       "      <th>mailer_type</th>\n",
       "      <th>income_level</th>\n",
       "      <th>_bank_accounts_open</th>\n",
       "      <th>overdraft_protection</th>\n",
       "      <th>credit_rating</th>\n",
       "      <th>_credit_cards_held</th>\n",
       "      <th>_homes_owned</th>\n",
       "      <th>household_size</th>\n",
       "      <th>own_your_home</th>\n",
       "      <th>average_balance</th>\n",
       "      <th>q1_balance</th>\n",
       "      <th>q2_balance</th>\n",
       "      <th>q3_balance</th>\n",
       "      <th>q4_balance</th>\n",
       "    </tr>\n",
       "    <tr>\n",
       "      <th>customer_number</th>\n",
       "      <th></th>\n",
       "      <th></th>\n",
       "      <th></th>\n",
       "      <th></th>\n",
       "      <th></th>\n",
       "      <th></th>\n",
       "      <th></th>\n",
       "      <th></th>\n",
       "      <th></th>\n",
       "      <th></th>\n",
       "      <th></th>\n",
       "      <th></th>\n",
       "      <th></th>\n",
       "      <th></th>\n",
       "      <th></th>\n",
       "      <th></th>\n",
       "    </tr>\n",
       "  </thead>\n",
       "  <tbody>\n",
       "    <tr>\n",
       "      <th>1</th>\n",
       "      <td>No</td>\n",
       "      <td>Air Miles</td>\n",
       "      <td>Letter</td>\n",
       "      <td>High</td>\n",
       "      <td>1</td>\n",
       "      <td>No</td>\n",
       "      <td>High</td>\n",
       "      <td>2</td>\n",
       "      <td>1</td>\n",
       "      <td>4</td>\n",
       "      <td>No</td>\n",
       "      <td>1160.75</td>\n",
       "      <td>1669</td>\n",
       "      <td>877</td>\n",
       "      <td>1095</td>\n",
       "      <td>1002</td>\n",
       "    </tr>\n",
       "    <tr>\n",
       "      <th>2</th>\n",
       "      <td>No</td>\n",
       "      <td>Air Miles</td>\n",
       "      <td>Letter</td>\n",
       "      <td>Medium</td>\n",
       "      <td>1</td>\n",
       "      <td>No</td>\n",
       "      <td>Medium</td>\n",
       "      <td>2</td>\n",
       "      <td>2</td>\n",
       "      <td>5</td>\n",
       "      <td>Yes</td>\n",
       "      <td>147.25</td>\n",
       "      <td>39</td>\n",
       "      <td>106</td>\n",
       "      <td>78</td>\n",
       "      <td>366</td>\n",
       "    </tr>\n",
       "    <tr>\n",
       "      <th>3</th>\n",
       "      <td>No</td>\n",
       "      <td>Air Miles</td>\n",
       "      <td>Postcard</td>\n",
       "      <td>High</td>\n",
       "      <td>2</td>\n",
       "      <td>No</td>\n",
       "      <td>Medium</td>\n",
       "      <td>2</td>\n",
       "      <td>1</td>\n",
       "      <td>2</td>\n",
       "      <td>Yes</td>\n",
       "      <td>276.50</td>\n",
       "      <td>367</td>\n",
       "      <td>352</td>\n",
       "      <td>145</td>\n",
       "      <td>242</td>\n",
       "    </tr>\n",
       "    <tr>\n",
       "      <th>4</th>\n",
       "      <td>No</td>\n",
       "      <td>Air Miles</td>\n",
       "      <td>Letter</td>\n",
       "      <td>Medium</td>\n",
       "      <td>2</td>\n",
       "      <td>No</td>\n",
       "      <td>High</td>\n",
       "      <td>1</td>\n",
       "      <td>1</td>\n",
       "      <td>4</td>\n",
       "      <td>No</td>\n",
       "      <td>1219.00</td>\n",
       "      <td>1578</td>\n",
       "      <td>1760</td>\n",
       "      <td>1119</td>\n",
       "      <td>419</td>\n",
       "    </tr>\n",
       "    <tr>\n",
       "      <th>5</th>\n",
       "      <td>No</td>\n",
       "      <td>Air Miles</td>\n",
       "      <td>Letter</td>\n",
       "      <td>Medium</td>\n",
       "      <td>1</td>\n",
       "      <td>No</td>\n",
       "      <td>Medium</td>\n",
       "      <td>2</td>\n",
       "      <td>1</td>\n",
       "      <td>6</td>\n",
       "      <td>Yes</td>\n",
       "      <td>1211.00</td>\n",
       "      <td>2140</td>\n",
       "      <td>1357</td>\n",
       "      <td>982</td>\n",
       "      <td>365</td>\n",
       "    </tr>\n",
       "    <tr>\n",
       "      <th>...</th>\n",
       "      <td>...</td>\n",
       "      <td>...</td>\n",
       "      <td>...</td>\n",
       "      <td>...</td>\n",
       "      <td>...</td>\n",
       "      <td>...</td>\n",
       "      <td>...</td>\n",
       "      <td>...</td>\n",
       "      <td>...</td>\n",
       "      <td>...</td>\n",
       "      <td>...</td>\n",
       "      <td>...</td>\n",
       "      <td>...</td>\n",
       "      <td>...</td>\n",
       "      <td>...</td>\n",
       "      <td>...</td>\n",
       "    </tr>\n",
       "    <tr>\n",
       "      <th>17996</th>\n",
       "      <td>No</td>\n",
       "      <td>Cash Back</td>\n",
       "      <td>Letter</td>\n",
       "      <td>High</td>\n",
       "      <td>1</td>\n",
       "      <td>No</td>\n",
       "      <td>Low</td>\n",
       "      <td>1</td>\n",
       "      <td>1</td>\n",
       "      <td>5</td>\n",
       "      <td>Yes</td>\n",
       "      <td>167.50</td>\n",
       "      <td>136</td>\n",
       "      <td>65</td>\n",
       "      <td>71</td>\n",
       "      <td>398</td>\n",
       "    </tr>\n",
       "    <tr>\n",
       "      <th>17997</th>\n",
       "      <td>No</td>\n",
       "      <td>Cash Back</td>\n",
       "      <td>Letter</td>\n",
       "      <td>High</td>\n",
       "      <td>1</td>\n",
       "      <td>No</td>\n",
       "      <td>Low</td>\n",
       "      <td>3</td>\n",
       "      <td>1</td>\n",
       "      <td>3</td>\n",
       "      <td>Yes</td>\n",
       "      <td>850.50</td>\n",
       "      <td>984</td>\n",
       "      <td>940</td>\n",
       "      <td>943</td>\n",
       "      <td>535</td>\n",
       "    </tr>\n",
       "    <tr>\n",
       "      <th>17998</th>\n",
       "      <td>No</td>\n",
       "      <td>Cash Back</td>\n",
       "      <td>Letter</td>\n",
       "      <td>High</td>\n",
       "      <td>1</td>\n",
       "      <td>No</td>\n",
       "      <td>Low</td>\n",
       "      <td>2</td>\n",
       "      <td>1</td>\n",
       "      <td>4</td>\n",
       "      <td>No</td>\n",
       "      <td>1087.25</td>\n",
       "      <td>918</td>\n",
       "      <td>767</td>\n",
       "      <td>1170</td>\n",
       "      <td>1494</td>\n",
       "    </tr>\n",
       "    <tr>\n",
       "      <th>17999</th>\n",
       "      <td>No</td>\n",
       "      <td>Cash Back</td>\n",
       "      <td>Letter</td>\n",
       "      <td>Medium</td>\n",
       "      <td>1</td>\n",
       "      <td>No</td>\n",
       "      <td>Medium</td>\n",
       "      <td>4</td>\n",
       "      <td>2</td>\n",
       "      <td>2</td>\n",
       "      <td>Yes</td>\n",
       "      <td>1022.25</td>\n",
       "      <td>626</td>\n",
       "      <td>983</td>\n",
       "      <td>865</td>\n",
       "      <td>1615</td>\n",
       "    </tr>\n",
       "    <tr>\n",
       "      <th>18000</th>\n",
       "      <td>No</td>\n",
       "      <td>Cash Back</td>\n",
       "      <td>Letter</td>\n",
       "      <td>Low</td>\n",
       "      <td>2</td>\n",
       "      <td>No</td>\n",
       "      <td>Medium</td>\n",
       "      <td>2</td>\n",
       "      <td>1</td>\n",
       "      <td>3</td>\n",
       "      <td>No</td>\n",
       "      <td>1056.00</td>\n",
       "      <td>265</td>\n",
       "      <td>1378</td>\n",
       "      <td>1978</td>\n",
       "      <td>603</td>\n",
       "    </tr>\n",
       "  </tbody>\n",
       "</table>\n",
       "<p>17976 rows × 16 columns</p>\n",
       "</div>"
      ],
      "text/plain": [
       "                offer_accepted     reward mailer_type income_level  \\\n",
       "customer_number                                                      \n",
       "1                           No  Air Miles      Letter         High   \n",
       "2                           No  Air Miles      Letter       Medium   \n",
       "3                           No  Air Miles    Postcard         High   \n",
       "4                           No  Air Miles      Letter       Medium   \n",
       "5                           No  Air Miles      Letter       Medium   \n",
       "...                        ...        ...         ...          ...   \n",
       "17996                       No  Cash Back      Letter         High   \n",
       "17997                       No  Cash Back      Letter         High   \n",
       "17998                       No  Cash Back      Letter         High   \n",
       "17999                       No  Cash Back      Letter       Medium   \n",
       "18000                       No  Cash Back      Letter          Low   \n",
       "\n",
       "                 _bank_accounts_open overdraft_protection credit_rating  \\\n",
       "customer_number                                                           \n",
       "1                                  1                   No          High   \n",
       "2                                  1                   No        Medium   \n",
       "3                                  2                   No        Medium   \n",
       "4                                  2                   No          High   \n",
       "5                                  1                   No        Medium   \n",
       "...                              ...                  ...           ...   \n",
       "17996                              1                   No           Low   \n",
       "17997                              1                   No           Low   \n",
       "17998                              1                   No           Low   \n",
       "17999                              1                   No        Medium   \n",
       "18000                              2                   No        Medium   \n",
       "\n",
       "                 _credit_cards_held  _homes_owned  household_size  \\\n",
       "customer_number                                                     \n",
       "1                                 2             1               4   \n",
       "2                                 2             2               5   \n",
       "3                                 2             1               2   \n",
       "4                                 1             1               4   \n",
       "5                                 2             1               6   \n",
       "...                             ...           ...             ...   \n",
       "17996                             1             1               5   \n",
       "17997                             3             1               3   \n",
       "17998                             2             1               4   \n",
       "17999                             4             2               2   \n",
       "18000                             2             1               3   \n",
       "\n",
       "                own_your_home  average_balance  q1_balance  q2_balance  \\\n",
       "customer_number                                                          \n",
       "1                          No          1160.75        1669         877   \n",
       "2                         Yes           147.25          39         106   \n",
       "3                         Yes           276.50         367         352   \n",
       "4                          No          1219.00        1578        1760   \n",
       "5                         Yes          1211.00        2140        1357   \n",
       "...                       ...              ...         ...         ...   \n",
       "17996                     Yes           167.50         136          65   \n",
       "17997                     Yes           850.50         984         940   \n",
       "17998                      No          1087.25         918         767   \n",
       "17999                     Yes          1022.25         626         983   \n",
       "18000                      No          1056.00         265        1378   \n",
       "\n",
       "                 q3_balance  q4_balance  \n",
       "customer_number                          \n",
       "1                      1095        1002  \n",
       "2                        78         366  \n",
       "3                       145         242  \n",
       "4                      1119         419  \n",
       "5                       982         365  \n",
       "...                     ...         ...  \n",
       "17996                    71         398  \n",
       "17997                   943         535  \n",
       "17998                  1170        1494  \n",
       "17999                   865        1615  \n",
       "18000                  1978         603  \n",
       "\n",
       "[17976 rows x 16 columns]"
      ]
     },
     "execution_count": 10,
     "metadata": {},
     "output_type": "execute_result"
    }
   ],
   "source": [
    "# As the df has 17976 rows and 'nunique() = 17976' for column 'customer_number' this column was setted as an index\n",
    "data.set_index('customer_number')"
   ]
  },
  {
   "cell_type": "markdown",
   "id": "170e969f",
   "metadata": {},
   "source": [
    "### 3.4. Categorical Features"
   ]
  },
  {
   "cell_type": "code",
   "execution_count": 11,
   "id": "1e4ace03",
   "metadata": {},
   "outputs": [
    {
     "name": "stdout",
     "output_type": "stream",
     "text": [
      "No     16955\n",
      "Yes     1021\n",
      "Name: offer_accepted, dtype: int64 \n",
      "\n",
      "Air Miles    6047\n",
      "Cash Back    5995\n",
      "Points       5934\n",
      "Name: reward, dtype: int64 \n",
      "\n",
      "Postcard    9134\n",
      "Letter      8842\n",
      "Name: mailer_type, dtype: int64 \n",
      "\n",
      "Medium    9002\n",
      "High      4519\n",
      "Low       4455\n",
      "Name: income_level, dtype: int64 \n",
      "\n",
      "No     15300\n",
      "Yes     2676\n",
      "Name: overdraft_protection, dtype: int64 \n",
      "\n",
      "High      6064\n",
      "Medium    5964\n",
      "Low       5948\n",
      "Name: credit_rating, dtype: int64 \n",
      "\n",
      "Yes    11636\n",
      "No      6340\n",
      "Name: own_your_home, dtype: int64 \n",
      "\n"
     ]
    }
   ],
   "source": [
    "for col in data.select_dtypes('object'):\n",
    "    print(data[col].value_counts(), '\\n')\n",
    "\n",
    "# Class Imbalance DETECTED!"
   ]
  },
  {
   "cell_type": "markdown",
   "id": "e4629581",
   "metadata": {},
   "source": [
    "## 4. Exploration"
   ]
  },
  {
   "cell_type": "code",
   "execution_count": 12,
   "id": "e72a6e77",
   "metadata": {},
   "outputs": [
    {
     "data": {
      "text/html": [
       "<div>\n",
       "<style scoped>\n",
       "    .dataframe tbody tr th:only-of-type {\n",
       "        vertical-align: middle;\n",
       "    }\n",
       "\n",
       "    .dataframe tbody tr th {\n",
       "        vertical-align: top;\n",
       "    }\n",
       "\n",
       "    .dataframe thead th {\n",
       "        text-align: right;\n",
       "    }\n",
       "</style>\n",
       "<table border=\"1\" class=\"dataframe\">\n",
       "  <thead>\n",
       "    <tr style=\"text-align: right;\">\n",
       "      <th>income_level</th>\n",
       "      <th>High</th>\n",
       "      <th>Low</th>\n",
       "      <th>Medium</th>\n",
       "    </tr>\n",
       "    <tr>\n",
       "      <th>offer_accepted</th>\n",
       "      <th></th>\n",
       "      <th></th>\n",
       "      <th></th>\n",
       "    </tr>\n",
       "  </thead>\n",
       "  <tbody>\n",
       "    <tr>\n",
       "      <th>No</th>\n",
       "      <td>4354</td>\n",
       "      <td>4068</td>\n",
       "      <td>8533</td>\n",
       "    </tr>\n",
       "    <tr>\n",
       "      <th>Yes</th>\n",
       "      <td>165</td>\n",
       "      <td>387</td>\n",
       "      <td>469</td>\n",
       "    </tr>\n",
       "  </tbody>\n",
       "</table>\n",
       "</div>"
      ],
      "text/plain": [
       "income_level    High   Low  Medium\n",
       "offer_accepted                    \n",
       "No              4354  4068    8533\n",
       "Yes              165   387     469"
      ]
     },
     "execution_count": 12,
     "metadata": {},
     "output_type": "execute_result"
    }
   ],
   "source": [
    "# checking how many 'offer_accepted' by 'income_level'\n",
    "pd.crosstab(data['offer_accepted'], data['income_level'])"
   ]
  },
  {
   "cell_type": "code",
   "execution_count": 13,
   "id": "23ca89e7",
   "metadata": {},
   "outputs": [
    {
     "data": {
      "text/html": [
       "<div>\n",
       "<style scoped>\n",
       "    .dataframe tbody tr th:only-of-type {\n",
       "        vertical-align: middle;\n",
       "    }\n",
       "\n",
       "    .dataframe tbody tr th {\n",
       "        vertical-align: top;\n",
       "    }\n",
       "\n",
       "    .dataframe thead th {\n",
       "        text-align: right;\n",
       "    }\n",
       "</style>\n",
       "<table border=\"1\" class=\"dataframe\">\n",
       "  <thead>\n",
       "    <tr style=\"text-align: right;\">\n",
       "      <th>credit_rating</th>\n",
       "      <th>High</th>\n",
       "      <th>Low</th>\n",
       "      <th>Medium</th>\n",
       "    </tr>\n",
       "    <tr>\n",
       "      <th>offer_accepted</th>\n",
       "      <th></th>\n",
       "      <th></th>\n",
       "      <th></th>\n",
       "    </tr>\n",
       "  </thead>\n",
       "  <tbody>\n",
       "    <tr>\n",
       "      <th>No</th>\n",
       "      <td>5945</td>\n",
       "      <td>5315</td>\n",
       "      <td>5695</td>\n",
       "    </tr>\n",
       "    <tr>\n",
       "      <th>Yes</th>\n",
       "      <td>119</td>\n",
       "      <td>633</td>\n",
       "      <td>269</td>\n",
       "    </tr>\n",
       "  </tbody>\n",
       "</table>\n",
       "</div>"
      ],
      "text/plain": [
       "credit_rating   High   Low  Medium\n",
       "offer_accepted                    \n",
       "No              5945  5315    5695\n",
       "Yes              119   633     269"
      ]
     },
     "execution_count": 13,
     "metadata": {},
     "output_type": "execute_result"
    }
   ],
   "source": [
    "# checking how many 'offer_accepted' by 'credit_rating'\n",
    "pd.crosstab(data['offer_accepted'], data['credit_rating'])"
   ]
  },
  {
   "cell_type": "code",
   "execution_count": 14,
   "id": "55facd19",
   "metadata": {},
   "outputs": [
    {
     "data": {
      "text/html": [
       "<div>\n",
       "<style scoped>\n",
       "    .dataframe tbody tr th:only-of-type {\n",
       "        vertical-align: middle;\n",
       "    }\n",
       "\n",
       "    .dataframe tbody tr th {\n",
       "        vertical-align: top;\n",
       "    }\n",
       "\n",
       "    .dataframe thead th {\n",
       "        text-align: right;\n",
       "    }\n",
       "</style>\n",
       "<table border=\"1\" class=\"dataframe\">\n",
       "  <thead>\n",
       "    <tr style=\"text-align: right;\">\n",
       "      <th>own_your_home</th>\n",
       "      <th>No</th>\n",
       "      <th>Yes</th>\n",
       "    </tr>\n",
       "    <tr>\n",
       "      <th>offer_accepted</th>\n",
       "      <th></th>\n",
       "      <th></th>\n",
       "    </tr>\n",
       "  </thead>\n",
       "  <tbody>\n",
       "    <tr>\n",
       "      <th>No</th>\n",
       "      <td>5980</td>\n",
       "      <td>10975</td>\n",
       "    </tr>\n",
       "    <tr>\n",
       "      <th>Yes</th>\n",
       "      <td>360</td>\n",
       "      <td>661</td>\n",
       "    </tr>\n",
       "  </tbody>\n",
       "</table>\n",
       "</div>"
      ],
      "text/plain": [
       "own_your_home     No    Yes\n",
       "offer_accepted             \n",
       "No              5980  10975\n",
       "Yes              360    661"
      ]
     },
     "execution_count": 14,
     "metadata": {},
     "output_type": "execute_result"
    }
   ],
   "source": [
    "# checking how many 'offer_accepted' by 'own_your_home'\n",
    "pd.crosstab(data['offer_accepted'], data['own_your_home'])"
   ]
  },
  {
   "cell_type": "code",
   "execution_count": 15,
   "id": "c9867529",
   "metadata": {},
   "outputs": [
    {
     "data": {
      "image/png": "[encoded data removed]",
      "text/plain": [
       "<Figure size 720x576 with 2 Axes>"
      ]
     },
     "metadata": {
      "needs_background": "light"
     },
     "output_type": "display_data"
    }
   ],
   "source": [
    "# check the correlations\n",
    "corr_matrix=data.corr(method='pearson')  # default\n",
    "fig, ax = plt.subplots(figsize=(10, 8))\n",
    "ax = sns.heatmap(corr_matrix, annot=True)\n",
    "plt.show()"
   ]
  },
  {
   "cell_type": "code",
   "execution_count": 16,
   "id": "9c9f52bb",
   "metadata": {},
   "outputs": [],
   "source": [
    "# As the columns 'average_balance' and 'q1/2/3/4_balance' showed a high correlation they will be dropped\n",
    "data = data.drop(columns=['q1_balance', 'q2_balance', 'q3_balance', 'q4_balance'])"
   ]
  },
  {
   "cell_type": "code",
   "execution_count": 17,
   "id": "41a661bb",
   "metadata": {},
   "outputs": [
    {
     "data": {
      "image/png": "[encoded data removed]",
      "text/plain": [
       "<Figure size 432x288 with 1 Axes>"
      ]
     },
     "metadata": {
      "needs_background": "light"
     },
     "output_type": "display_data"
    },
    {
     "data": {
      "image/png": "[encoded data removed]",
      "text/plain": [
       "<Figure size 432x288 with 1 Axes>"
      ]
     },
     "metadata": {
      "needs_background": "light"
     },
     "output_type": "display_data"
    },
    {
     "data": {
      "image/png": "[encoded data removed]",
      "text/plain": [
       "<Figure size 432x288 with 1 Axes>"
      ]
     },
     "metadata": {
      "needs_background": "light"
     },
     "output_type": "display_data"
    },
    {
     "data": {
      "image/png": "[encoded data removed]",
      "text/plain": [
       "<Figure size 432x288 with 1 Axes>"
      ]
     },
     "metadata": {
      "needs_background": "light"
     },
     "output_type": "display_data"
    },
    {
     "data": {
      "image/png": "[encoded data removed]",
      "text/plain": [
       "<Figure size 432x288 with 1 Axes>"
      ]
     },
     "metadata": {
      "needs_background": "light"
     },
     "output_type": "display_data"
    },
    {
     "data": {
      "image/png": "[encoded data removed]",
      "text/plain": [
       "<Figure size 432x288 with 1 Axes>"
      ]
     },
     "metadata": {
      "needs_background": "light"
     },
     "output_type": "display_data"
    },
    {
     "data": {
      "image/png": "[encoded data removed]",
      "text/plain": [
       "<Figure size 432x288 with 1 Axes>"
      ]
     },
     "metadata": {
      "needs_background": "light"
     },
     "output_type": "display_data"
    },
    {
     "data": {
      "image/png": "[encoded data removed]",
      "text/plain": [
       "<Figure size 432x288 with 1 Axes>"
      ]
     },
     "metadata": {
      "needs_background": "light"
     },
     "output_type": "display_data"
    },
    {
     "data": {
      "image/png": "[encoded data removed]",
      "text/plain": [
       "<Figure size 432x288 with 1 Axes>"
      ]
     },
     "metadata": {
      "needs_background": "light"
     },
     "output_type": "display_data"
    },
    {
     "data": {
      "image/png": "[encoded data removed]",
      "text/plain": [
       "<Figure size 432x288 with 1 Axes>"
      ]
     },
     "metadata": {
      "needs_background": "light"
     },
     "output_type": "display_data"
    }
   ],
   "source": [
    "for col in data.select_dtypes(np.number):\n",
    "    if col == 'customer_number':\n",
    "        pass\n",
    "    else:\n",
    "        sns.distplot(data[col])\n",
    "        plt.show()\n",
    "        sns.boxplot(data[col])\n",
    "        plt.show()"
   ]
  },
  {
   "cell_type": "markdown",
   "id": "af5e653f",
   "metadata": {},
   "source": [
    "## 5. Processing Data\n",
    "\n",
    "- Dealing with outliers.\n",
    "- Normalization.\n",
    "- Dealing with imbalanced data.\n",
    "- Encoding Categorical Data.\n",
    "- Splitting into train set and test set."
   ]
  },
  {
   "cell_type": "markdown",
   "id": "eafde138",
   "metadata": {},
   "source": [
    "### 5.1. Feature Engineering"
   ]
  },
  {
   "cell_type": "code",
   "execution_count": 18,
   "id": "41a4599e",
   "metadata": {},
   "outputs": [
    {
     "data": {
      "image/png": "[encoded data removed]",
      "text/plain": [
       "<Figure size 432x288 with 1 Axes>"
      ]
     },
     "metadata": {
      "needs_background": "light"
     },
     "output_type": "display_data"
    }
   ],
   "source": [
    "upper = np.percentile(data['average_balance'],75)\n",
    "lower = np.percentile(data['average_balance'],25)\n",
    "iqr = upper - lower\n",
    "upper_limit = upper + (2.5 * iqr)\n",
    "lower_limit = lower - (2.5 * iqr)\n",
    "data = data[(data['average_balance']>lower_limit) & (data['average_balance']<upper_limit)]\n",
    "\n",
    "sns.boxplot(data['average_balance'])\n",
    "plt.show()"
   ]
  },
  {
   "cell_type": "code",
   "execution_count": 19,
   "id": "2911a45d",
   "metadata": {},
   "outputs": [
    {
     "data": {
      "text/plain": [
       "(17966, 13)"
      ]
     },
     "execution_count": 19,
     "metadata": {},
     "output_type": "execute_result"
    }
   ],
   "source": [
    "# checking the size of the data loss after removing outliers\n",
    "data.shape"
   ]
  },
  {
   "cell_type": "code",
   "execution_count": 20,
   "id": "1af2d272",
   "metadata": {},
   "outputs": [],
   "source": [
    "def boxcox_transform(df):\n",
    "    numeric_cols = df.select_dtypes(np.number).columns\n",
    "    _ci = {column: None for column in numeric_cols}\n",
    "    for column in numeric_cols:\n",
    "        df[column] = np.where(df[column]<=0, np.NAN, df[column]) \n",
    "        df[column] = df[column].fillna(df[column].mean())\n",
    "        transformed_data, ci = stats.boxcox(df[column])\n",
    "        df[column] = transformed_data\n",
    "        _ci[column] = [ci] \n",
    "    return df, _ci"
   ]
  },
  {
   "cell_type": "code",
   "execution_count": 21,
   "id": "a6d789da",
   "metadata": {},
   "outputs": [
    {
     "data": {
      "image/png": "[encoded data removed]",
      "text/plain": [
       "<Figure size 432x288 with 1 Axes>"
      ]
     },
     "metadata": {
      "needs_background": "light"
     },
     "output_type": "display_data"
    }
   ],
   "source": [
    "data['average_balance'] = np.where(data['average_balance']<=0, np.NAN, data['average_balance']) \n",
    "data['average_balance'] = data['average_balance'].fillna(data['average_balance'].mean())\n",
    "transformed_data, ci = stats.boxcox(data['average_balance'])\n",
    "data['average_balance'] = transformed_data\n",
    "\n",
    "sns.distplot(data['average_balance'])\n",
    "plt.show()"
   ]
  },
  {
   "cell_type": "markdown",
   "id": "32439524",
   "metadata": {},
   "source": [
    "#### Chi-square test\n",
    "H0 (Null Hypothesis) - assumes that there is no association between the two variables.\n",
    "\n",
    "Ha (Alternate Hypothesis) - assumes that there is an association between the two variables."
   ]
  },
  {
   "cell_type": "code",
   "execution_count": 22,
   "id": "b97cfda8",
   "metadata": {},
   "outputs": [
    {
     "data": {
      "text/html": [
       "<div>\n",
       "<style scoped>\n",
       "    .dataframe tbody tr th:only-of-type {\n",
       "        vertical-align: middle;\n",
       "    }\n",
       "\n",
       "    .dataframe tbody tr th {\n",
       "        vertical-align: top;\n",
       "    }\n",
       "\n",
       "    .dataframe thead th {\n",
       "        text-align: right;\n",
       "    }\n",
       "</style>\n",
       "<table border=\"1\" class=\"dataframe\">\n",
       "  <thead>\n",
       "    <tr style=\"text-align: right;\">\n",
       "      <th>income_level</th>\n",
       "      <th>High</th>\n",
       "      <th>Low</th>\n",
       "      <th>Medium</th>\n",
       "    </tr>\n",
       "    <tr>\n",
       "      <th>offer_accepted</th>\n",
       "      <th></th>\n",
       "      <th></th>\n",
       "      <th></th>\n",
       "    </tr>\n",
       "  </thead>\n",
       "  <tbody>\n",
       "    <tr>\n",
       "      <th>No</th>\n",
       "      <td>4351</td>\n",
       "      <td>4068</td>\n",
       "      <td>8526</td>\n",
       "    </tr>\n",
       "    <tr>\n",
       "      <th>Yes</th>\n",
       "      <td>165</td>\n",
       "      <td>387</td>\n",
       "      <td>469</td>\n",
       "    </tr>\n",
       "  </tbody>\n",
       "</table>\n",
       "</div>"
      ],
      "text/plain": [
       "income_level    High   Low  Medium\n",
       "offer_accepted                    \n",
       "No              4351  4068    8526\n",
       "Yes              165   387     469"
      ]
     },
     "execution_count": 22,
     "metadata": {},
     "output_type": "execute_result"
    }
   ],
   "source": [
    "# contingency table\n",
    "data_crosstab = pd.crosstab(data['offer_accepted'], data['income_level'], margins = False)\n",
    "data_crosstab"
   ]
  },
  {
   "cell_type": "code",
   "execution_count": 23,
   "id": "57a54cbc",
   "metadata": {},
   "outputs": [],
   "source": [
    "stat, p, dof, expected = chi2_contingency(data_crosstab, correction=False)"
   ]
  },
  {
   "cell_type": "code",
   "execution_count": 24,
   "id": "3d3e46b9",
   "metadata": {},
   "outputs": [],
   "source": [
    "def test_hip(p):\n",
    "    alpha = 0.05\n",
    "    #print(\"p value is \" + str(p))\n",
    "    if p <= alpha:\n",
    "        print('Dependent') #(reject H0)\n",
    "    else:\n",
    "        print('Independent') #(H0 holds true)"
   ]
  },
  {
   "cell_type": "code",
   "execution_count": 25,
   "id": "3eb7ba5e",
   "metadata": {},
   "outputs": [
    {
     "name": "stdout",
     "output_type": "stream",
     "text": [
      "Dependent\n"
     ]
    }
   ],
   "source": [
    "test_hip(p)"
   ]
  },
  {
   "cell_type": "code",
   "execution_count": 26,
   "id": "7ef3bab8",
   "metadata": {},
   "outputs": [],
   "source": [
    "def col_cat_val(col_names):\n",
    "    for i in cols:\n",
    "        for j in cols:\n",
    "            if i != j:\n",
    "                data_crosstab = pd.crosstab(data[i], data[j], margins = False)\n",
    "                stat, p, dof, expected = chi2_contingency(data_crosstab, correction=False)\n",
    "                print(i, j, test_hip(p))"
   ]
  },
  {
   "cell_type": "code",
   "execution_count": 27,
   "id": "af159d9e",
   "metadata": {},
   "outputs": [
    {
     "name": "stdout",
     "output_type": "stream",
     "text": [
      "Dependent\n",
      "offer_accepted reward None\n",
      "Dependent\n",
      "offer_accepted mailer_type None\n",
      "Dependent\n",
      "offer_accepted income_level None\n",
      "Independent\n",
      "offer_accepted overdraft_protection None\n",
      "Dependent\n",
      "offer_accepted credit_rating None\n",
      "Independent\n",
      "offer_accepted own_your_home None\n",
      "Dependent\n",
      "reward offer_accepted None\n",
      "Independent\n",
      "reward mailer_type None\n",
      "Independent\n",
      "reward income_level None\n",
      "Independent\n",
      "reward overdraft_protection None\n",
      "Independent\n",
      "reward credit_rating None\n",
      "Independent\n",
      "reward own_your_home None\n",
      "Dependent\n",
      "mailer_type offer_accepted None\n",
      "Independent\n",
      "mailer_type reward None\n",
      "Independent\n",
      "mailer_type income_level None\n",
      "Independent\n",
      "mailer_type overdraft_protection None\n",
      "Independent\n",
      "mailer_type credit_rating None\n",
      "Independent\n",
      "mailer_type own_your_home None\n",
      "Dependent\n",
      "income_level offer_accepted None\n",
      "Independent\n",
      "income_level reward None\n",
      "Independent\n",
      "income_level mailer_type None\n",
      "Independent\n",
      "income_level overdraft_protection None\n",
      "Independent\n",
      "income_level credit_rating None\n",
      "Independent\n",
      "income_level own_your_home None\n",
      "Independent\n",
      "overdraft_protection offer_accepted None\n",
      "Independent\n",
      "overdraft_protection reward None\n",
      "Independent\n",
      "overdraft_protection mailer_type None\n",
      "Independent\n",
      "overdraft_protection income_level None\n",
      "Independent\n",
      "overdraft_protection credit_rating None\n",
      "Independent\n",
      "overdraft_protection own_your_home None\n",
      "Dependent\n",
      "credit_rating offer_accepted None\n",
      "Independent\n",
      "credit_rating reward None\n",
      "Independent\n",
      "credit_rating mailer_type None\n",
      "Independent\n",
      "credit_rating income_level None\n",
      "Independent\n",
      "credit_rating overdraft_protection None\n",
      "Independent\n",
      "credit_rating own_your_home None\n",
      "Independent\n",
      "own_your_home offer_accepted None\n",
      "Independent\n",
      "own_your_home reward None\n",
      "Independent\n",
      "own_your_home mailer_type None\n",
      "Independent\n",
      "own_your_home income_level None\n",
      "Independent\n",
      "own_your_home overdraft_protection None\n",
      "Independent\n",
      "own_your_home credit_rating None\n"
     ]
    }
   ],
   "source": [
    "# Checking to bring to Tableau \n",
    "cols = data.select_dtypes('object').columns\n",
    "col_cat_val(cols)"
   ]
  },
  {
   "cell_type": "markdown",
   "id": "fc804543",
   "metadata": {},
   "source": [
    "### 5.2. Train the model"
   ]
  },
  {
   "cell_type": "markdown",
   "id": "d86da8f5",
   "metadata": {},
   "source": [
    "#### 5.2.1. Dealing with imbalanced data"
   ]
  },
  {
   "cell_type": "code",
   "execution_count": 28,
   "id": "c6372d43",
   "metadata": {},
   "outputs": [],
   "source": [
    "y_id = data['offer_accepted']\n",
    "X_id = data.drop('offer_accepted', axis=1)"
   ]
  },
  {
   "cell_type": "code",
   "execution_count": 29,
   "id": "983a7fae",
   "metadata": {},
   "outputs": [],
   "source": [
    "#Scaling numerical variables\n",
    "numericals_id = X_id.select_dtypes(np.number)\n",
    "transformer_id = StandardScaler().fit(numericals_id)\n",
    "x_id_standardized = transformer_id.transform(numericals_id)"
   ]
  },
  {
   "cell_type": "code",
   "execution_count": 30,
   "id": "f933db73",
   "metadata": {},
   "outputs": [],
   "source": [
    "#Encoding categorical variables\n",
    "categoricals_id = X_id.select_dtypes(exclude=np.number)\n",
    "encoder_id = OneHotEncoder(handle_unknown='error', drop='first').fit(categoricals_id)\n",
    "encoded_id = encoder_id.transform(categoricals_id).toarray()\n",
    "#X_id = pd.get_dummies(X_id)"
   ]
  },
  {
   "cell_type": "code",
   "execution_count": 31,
   "id": "cbf4d1d6",
   "metadata": {},
   "outputs": [],
   "source": [
    "X_id = np.concatenate((x_id_standardized, encoded_id), axis=1)"
   ]
  },
  {
   "cell_type": "markdown",
   "id": "c7cadbf5",
   "metadata": {},
   "source": [
    "- Upsampling with SMOTE"
   ]
  },
  {
   "cell_type": "code",
   "execution_count": 32,
   "id": "0cc7eda5",
   "metadata": {},
   "outputs": [
    {
     "data": {
      "text/plain": [
       "Yes    16945\n",
       "No     16945\n",
       "Name: offer_accepted, dtype: int64"
      ]
     },
     "execution_count": 32,
     "metadata": {},
     "output_type": "execute_result"
    }
   ],
   "source": [
    "smote = SMOTE()\n",
    "\n",
    "X_sm, y_sm = smote.fit_resample(X_id, y_id)\n",
    "y_sm.value_counts()"
   ]
  },
  {
   "cell_type": "code",
   "execution_count": 33,
   "id": "2a2f2ac7",
   "metadata": {},
   "outputs": [],
   "source": [
    "X_id_train, X_id_test, y_id_train, y_id_test = train_test_split(X_sm, y_sm, test_size=0.2, random_state=42)"
   ]
  },
  {
   "cell_type": "code",
   "execution_count": 34,
   "id": "d6fb9c9a",
   "metadata": {},
   "outputs": [
    {
     "data": {
      "text/plain": [
       "LogisticRegression(max_iter=1000, random_state=42)"
      ]
     },
     "execution_count": 34,
     "metadata": {},
     "output_type": "execute_result"
    }
   ],
   "source": [
    "classification = LogisticRegression(random_state=42, max_iter=1000)\n",
    "\n",
    "classification.fit(X_id_train, y_id_train)"
   ]
  },
  {
   "cell_type": "code",
   "execution_count": 35,
   "id": "220d501a",
   "metadata": {},
   "outputs": [
    {
     "data": {
      "text/plain": [
       "0.7043375627028622"
      ]
     },
     "execution_count": 35,
     "metadata": {},
     "output_type": "execute_result"
    }
   ],
   "source": [
    "classification.score(X_id_test, y_id_test)"
   ]
  },
  {
   "cell_type": "markdown",
   "id": "7990a53a",
   "metadata": {},
   "source": [
    "- Upsampling using weights"
   ]
  },
  {
   "cell_type": "code",
   "execution_count": 36,
   "id": "30448344",
   "metadata": {},
   "outputs": [],
   "source": [
    "total = sum(data['offer_accepted'].value_counts())\n",
    "\n",
    "weights = {'No': total/data['offer_accepted'].value_counts()['No'],\n",
    "           'Yes': total/data['offer_accepted'].value_counts()['Yes']}"
   ]
  },
  {
   "cell_type": "code",
   "execution_count": 37,
   "id": "83a00950",
   "metadata": {},
   "outputs": [
    {
     "data": {
      "text/plain": [
       "{'No': 1.060253762171732, 'Yes': 17.596474045053867}"
      ]
     },
     "execution_count": 37,
     "metadata": {},
     "output_type": "execute_result"
    }
   ],
   "source": [
    "weights"
   ]
  },
  {
   "cell_type": "code",
   "execution_count": 38,
   "id": "2310c92f",
   "metadata": {},
   "outputs": [],
   "source": [
    "classification = LogisticRegression(random_state=42, class_weight=weights)"
   ]
  },
  {
   "cell_type": "code",
   "execution_count": 39,
   "id": "00d5ef05",
   "metadata": {},
   "outputs": [
    {
     "data": {
      "text/plain": [
       "No     16945\n",
       "Yes     1021\n",
       "Name: offer_accepted, dtype: int64"
      ]
     },
     "execution_count": 39,
     "metadata": {},
     "output_type": "execute_result"
    }
   ],
   "source": [
    "data['offer_accepted'].value_counts()"
   ]
  },
  {
   "cell_type": "code",
   "execution_count": 40,
   "id": "47e67a9c",
   "metadata": {},
   "outputs": [
    {
     "data": {
      "text/plain": [
       "0.5520802596636176"
      ]
     },
     "execution_count": 40,
     "metadata": {},
     "output_type": "execute_result"
    }
   ],
   "source": [
    "classification.fit(X_id_train, y_id_train)\n",
    "classification.score(X_id_test, y_id_test)"
   ]
  },
  {
   "cell_type": "markdown",
   "id": "02b3022a",
   "metadata": {},
   "source": [
    "- Trying SMOTE again"
   ]
  },
  {
   "cell_type": "code",
   "execution_count": 41,
   "id": "fdb6f352",
   "metadata": {},
   "outputs": [
    {
     "data": {
      "text/plain": [
       "Yes    16945\n",
       "No     16945\n",
       "Name: offer_accepted, dtype: int64"
      ]
     },
     "execution_count": 41,
     "metadata": {},
     "output_type": "execute_result"
    }
   ],
   "source": [
    "smote = SMOTE()\n",
    "\n",
    "X_sm, y_sm = smote.fit_resample(X_id, y_id)\n",
    "y_sm.value_counts()"
   ]
  },
  {
   "cell_type": "code",
   "execution_count": 42,
   "id": "b26d9b20",
   "metadata": {},
   "outputs": [],
   "source": [
    "X_id_train, X_id_test, y_id_train, y_id_test = train_test_split(X_sm, y_sm, test_size=0.2, random_state=42)"
   ]
  },
  {
   "cell_type": "code",
   "execution_count": 43,
   "id": "e256259f",
   "metadata": {},
   "outputs": [
    {
     "data": {
      "text/plain": [
       "0.7100914724107407"
      ]
     },
     "execution_count": 43,
     "metadata": {},
     "output_type": "execute_result"
    }
   ],
   "source": [
    "classification = LogisticRegression(random_state=42, max_iter=1000)\n",
    "\n",
    "classification.fit(X_id_train, y_id_train)\n",
    "classification.score(X_id_test, y_id_test)"
   ]
  },
  {
   "cell_type": "markdown",
   "id": "f4944927",
   "metadata": {},
   "source": [
    "#### 5.2.2. KNN"
   ]
  },
  {
   "cell_type": "code",
   "execution_count": 44,
   "id": "7df7c7f9",
   "metadata": {},
   "outputs": [],
   "source": [
    "y_knn = data['offer_accepted']\n",
    "X_knn = data.drop('offer_accepted', axis=1)"
   ]
  },
  {
   "cell_type": "code",
   "execution_count": 45,
   "id": "388054c4",
   "metadata": {},
   "outputs": [],
   "source": [
    "#Scaling numerical variables\n",
    "numericals = X_knn.select_dtypes(np.number)\n",
    "transformer = StandardScaler().fit(numericals)\n",
    "x_standardized = transformer.transform(numericals)"
   ]
  },
  {
   "cell_type": "code",
   "execution_count": 46,
   "id": "7145e973",
   "metadata": {},
   "outputs": [],
   "source": [
    "#Encoding categorical variables\n",
    "categoricals = X_knn.select_dtypes(exclude=np.number)\n",
    "encoder = OneHotEncoder(handle_unknown='error', drop='first').fit(categoricals)\n",
    "encoded = encoder.transform(categoricals).toarray()"
   ]
  },
  {
   "cell_type": "code",
   "execution_count": 47,
   "id": "6158f59c",
   "metadata": {},
   "outputs": [],
   "source": [
    "X_knn = np.concatenate((x_standardized, encoded), axis=1)\n",
    "X_knn_train, X_knn_test, y_knn_train, y_knn_test = train_test_split(X_knn, y_knn, test_size=0.2, random_state=100)"
   ]
  },
  {
   "cell_type": "markdown",
   "id": "bd22b5aa",
   "metadata": {},
   "source": [
    "#### Choosing the best value of `k` for the `KNN`"
   ]
  },
  {
   "cell_type": "code",
   "execution_count": 48,
   "id": "a7da4893",
   "metadata": {},
   "outputs": [],
   "source": [
    "scores = []\n",
    "for i in range(2,10):\n",
    "    model = KNeighborsClassifier(n_neighbors=i)\n",
    "    model.fit(X_knn_train, y_knn_train)\n",
    "    scores.append(model.score(X_knn_test, y_knn_test))"
   ]
  },
  {
   "cell_type": "code",
   "execution_count": 49,
   "id": "10921d48",
   "metadata": {},
   "outputs": [
    {
     "data": {
      "text/plain": [
       "Text(0, 0.5, 'Accuracy')"
      ]
     },
     "execution_count": 49,
     "metadata": {},
     "output_type": "execute_result"
    },
    {
     "data": {
      "image/png": "[encoded data removed]",
      "text/plain": [
       "<Figure size 720x432 with 1 Axes>"
      ]
     },
     "metadata": {
      "needs_background": "light"
     },
     "output_type": "display_data"
    }
   ],
   "source": [
    "plt.figure(figsize=(10,6))\n",
    "plt.plot(range(2,10),scores,color = 'blue', linestyle='dashed',\n",
    "         marker='o', markerfacecolor='red', markersize=10)\n",
    "plt.title('accuracy scores vs. K Value')\n",
    "plt.xlabel('K')\n",
    "plt.ylabel('Accuracy')"
   ]
  },
  {
   "cell_type": "code",
   "execution_count": 50,
   "id": "47552fab",
   "metadata": {},
   "outputs": [
    {
     "data": {
      "text/plain": [
       "KNeighborsClassifier(n_neighbors=4)"
      ]
     },
     "execution_count": 50,
     "metadata": {},
     "output_type": "execute_result"
    }
   ],
   "source": [
    "#Back to the model\n",
    "model = KNeighborsClassifier(n_neighbors=4)\n",
    "#4 instead of 6 bc both numbers give similar results and a smaller number runs faster\n",
    "model.fit(X_knn_train, y_knn_train)"
   ]
  },
  {
   "cell_type": "code",
   "execution_count": 51,
   "id": "d5361bad",
   "metadata": {},
   "outputs": [],
   "source": [
    "predictions = model.predict(X_knn_test)\n",
    "score = model.score(X_knn_test, y_knn_test)"
   ]
  },
  {
   "cell_type": "code",
   "execution_count": 52,
   "id": "f2bada06",
   "metadata": {},
   "outputs": [
    {
     "data": {
      "text/plain": [
       "0.9424040066777963"
      ]
     },
     "execution_count": 52,
     "metadata": {},
     "output_type": "execute_result"
    }
   ],
   "source": [
    "score"
   ]
  },
  {
   "cell_type": "markdown",
   "id": "11a84667",
   "metadata": {},
   "source": [
    "### 5.3. Evaluate the model"
   ]
  },
  {
   "cell_type": "code",
   "execution_count": 53,
   "id": "ddb6810b",
   "metadata": {},
   "outputs": [
    {
     "data": {
      "text/plain": [
       "0.7100914724107407"
      ]
     },
     "execution_count": 53,
     "metadata": {},
     "output_type": "execute_result"
    }
   ],
   "source": [
    "#Imbalanced data\n",
    "classification.score(X_id_test, y_id_test)"
   ]
  },
  {
   "cell_type": "code",
   "execution_count": 54,
   "id": "29b4aab7",
   "metadata": {},
   "outputs": [
    {
     "data": {
      "text/plain": [
       "0.6844741235392321"
      ]
     },
     "execution_count": 54,
     "metadata": {},
     "output_type": "execute_result"
    }
   ],
   "source": [
    "#KNN\n",
    "classification.score(X_knn_test, y_knn_test)"
   ]
  },
  {
   "cell_type": "code",
   "execution_count": 55,
   "id": "5d943480",
   "metadata": {},
   "outputs": [],
   "source": [
    "# to get predictions id\n",
    "predictions_id = classification.predict(X_id_test)"
   ]
  },
  {
   "cell_type": "code",
   "execution_count": 56,
   "id": "ddc3758d",
   "metadata": {},
   "outputs": [],
   "source": [
    "# to get predictions knn\n",
    "predictions_knn = classification.predict(X_knn_test)"
   ]
  },
  {
   "cell_type": "code",
   "execution_count": 57,
   "id": "b85fe2bf",
   "metadata": {},
   "outputs": [
    {
     "data": {
      "text/plain": [
       "array([[2315, 1067],\n",
       "       [ 898, 2498]], dtype=int64)"
      ]
     },
     "execution_count": 57,
     "metadata": {},
     "output_type": "execute_result"
    }
   ],
   "source": [
    "confusion_matrix(y_id_test, predictions_id)"
   ]
  },
  {
   "cell_type": "code",
   "execution_count": 58,
   "id": "7eeaa80b",
   "metadata": {},
   "outputs": [
    {
     "data": {
      "text/plain": [
       "array([[2320, 1070],\n",
       "       [  64,  140]], dtype=int64)"
      ]
     },
     "execution_count": 58,
     "metadata": {},
     "output_type": "execute_result"
    }
   ],
   "source": [
    "confusion_matrix(y_knn_test, predictions_knn)"
   ]
  },
  {
   "cell_type": "code",
   "execution_count": 59,
   "id": "b6c7c17a",
   "metadata": {},
   "outputs": [],
   "source": [
    "cf_matrix_id = confusion_matrix(y_id_test, predictions_id, normalize='all')"
   ]
  },
  {
   "cell_type": "code",
   "execution_count": 60,
   "id": "5bdf967f",
   "metadata": {},
   "outputs": [],
   "source": [
    "cf_matrix_knn = confusion_matrix(y_knn_test, predictions_knn, normalize='all')"
   ]
  },
  {
   "cell_type": "code",
   "execution_count": 61,
   "id": "500f771a",
   "metadata": {},
   "outputs": [
    {
     "data": {
      "text/plain": [
       "<AxesSubplot:>"
      ]
     },
     "execution_count": 61,
     "metadata": {},
     "output_type": "execute_result"
    },
    {
     "data": {
      "image/png": "[encoded data removed]",
      "text/plain": [
       "<Figure size 432x288 with 2 Axes>"
      ]
     },
     "metadata": {
      "needs_background": "light"
     },
     "output_type": "display_data"
    }
   ],
   "source": [
    "#Confusion matrix Imbalanced Data\n",
    "group_names_id = ['True No', 'False No', 'False Yes', 'True Yes']\n",
    "group_counts_id = [\"{0:0.2f}\".format(value) for value in cf_matrix_id.flatten()]\n",
    "group_percentages_id = [\"{0:.2%}\".format(value) for value in cf_matrix_id.flatten()/np.sum(cf_matrix_id)]\n",
    "labels_id = [f\"{v1}\\n{v3}\" for v1, v3 in zip(group_names_id,group_percentages_id)]\n",
    "labels_id = np.asarray(labels_id).reshape(2,2)\n",
    "sns.heatmap(cf_matrix_id, annot=labels_id, fmt='', cmap='Blues')"
   ]
  },
  {
   "cell_type": "code",
   "execution_count": 62,
   "id": "140ec533",
   "metadata": {},
   "outputs": [
    {
     "data": {
      "text/plain": [
       "<AxesSubplot:>"
      ]
     },
     "execution_count": 62,
     "metadata": {},
     "output_type": "execute_result"
    },
    {
     "data": {
      "image/png": "[encoded data removed]",
      "text/plain": [
       "<Figure size 432x288 with 2 Axes>"
      ]
     },
     "metadata": {
      "needs_background": "light"
     },
     "output_type": "display_data"
    }
   ],
   "source": [
    "#Confusion matrix KNN\n",
    "group_names_knn = ['True No', 'False No', 'False Yes', 'True Yes']\n",
    "group_counts_knn = [\"{0:0.2f}\".format(value) for value in cf_matrix_knn.flatten()]\n",
    "group_percentages_knn = [\"{0:.2%}\".format(value) for value in cf_matrix_knn.flatten()/np.sum(cf_matrix_knn)]\n",
    "labels_knn = [f\"{v1}\\n{v3}\" for v1, v3 in zip(group_names_knn,group_percentages_knn)]\n",
    "labels_knn = np.asarray(labels_knn).reshape(2,2)\n",
    "sns.heatmap(cf_matrix_knn, annot=labels_knn, fmt='', cmap='Blues')"
   ]
  },
  {
   "cell_type": "markdown",
   "id": "d5cdf1a9",
   "metadata": {},
   "source": [
    "### Logistic Regression Metrics\n",
    "\n",
    "Concepts:\n",
    "- Sensitivity: True Positives rate = TP/(TP+FN)\n",
    "- Specificity: True Negatives rate = TN/(TN+FP)\n",
    "\n",
    "There are many metrics to aid us on evaluating our model. \n",
    "Some famous ones are:\n",
    "- Accuracy = (TP + TN)/(TP+TN+FP+FN);\n",
    "- AUC-ROC (Area Under the Curve - Receiver Operating Characteristics);\n",
    "- F1 score = 2*(precision * recall)/(precision+recall);\n",
    "- Precision = TP/(TP+FP) - when you rather be sure it is a positive;\n",
    "- Recall (sensitivity) = TP/(TP+FN) - when we want to get most positives as possible.\n",
    "\n",
    "More metrics and when to use each: [here](https://towardsdatascience.com/the-5-classification-evaluation-metrics-you-must-know-aa97784ff226)."
   ]
  },
  {
   "cell_type": "code",
   "execution_count": 63,
   "id": "53f292f8",
   "metadata": {},
   "outputs": [
    {
     "name": "stdout",
     "output_type": "stream",
     "text": [
      "0.7205104263927794 0.7007012622720897\n"
     ]
    }
   ],
   "source": [
    "TP = cf_matrix_id[0][0]\n",
    "FN = cf_matrix_id[1][0]\n",
    "TN = cf_matrix_id[1][1]\n",
    "FP = cf_matrix_id[0][1]\n",
    "Sensitivity_id = TP/(TP+FN)\n",
    "Specificity_id = TN/(TN+FP)\n",
    "print(Sensitivity_id, Specificity_id)"
   ]
  },
  {
   "cell_type": "code",
   "execution_count": 64,
   "id": "aee50875",
   "metadata": {},
   "outputs": [
    {
     "name": "stdout",
     "output_type": "stream",
     "text": [
      "0.9731543624161074 0.11570247933884298\n"
     ]
    }
   ],
   "source": [
    "TP = cf_matrix_knn[0][0]\n",
    "FN = cf_matrix_knn[1][0]\n",
    "TN = cf_matrix_knn[1][1]\n",
    "FP = cf_matrix_knn[0][1]\n",
    "Sensitivity_knn = TP/(TP+FN)\n",
    "Specificity_knn = TN/(TN+FP)\n",
    "print(Sensitivity_knn, Specificity_knn)"
   ]
  },
  {
   "cell_type": "markdown",
   "id": "a745ada7",
   "metadata": {},
   "source": [
    "#### 5.3.1. AUC-ROC\n",
    "\n",
    "Explains how well separated are the probabilities of the classes. Plots True Positive vs False Positive, and calculates the area under the curve: </br>\n",
    "Resource to help understand ROC-AUC curve [here](https://www.youtube.com/watch?v=4jRBRDbJemM)"
   ]
  },
  {
   "cell_type": "code",
   "execution_count": 65,
   "id": "9f63e4d2",
   "metadata": {},
   "outputs": [],
   "source": [
    "def plot_multiclass_roc(clf, X_test, y_test, n_classes, figsize=(17, 6)):\n",
    "    y_score = clf.decision_function(X_test)\n",
    "\n",
    "    # structures\n",
    "    fpr = dict()\n",
    "    tpr = dict()\n",
    "    roc_auc = dict()\n",
    "\n",
    "    # calculate dummies once\n",
    "    y_test_dummies = pd.get_dummies(y_test, drop_first=False).values\n",
    "    for i in range(n_classes):\n",
    "        fpr[i], tpr[i], _ = metrics.roc_curve(y_test_dummies[:, i], y_score)\n",
    "        roc_auc[i] = metrics.auc(fpr[i], tpr[i])\n",
    "\n",
    "    # roc for each class\n",
    "    fig, ax = plt.subplots(figsize=figsize)\n",
    "    ax.plot([0, 1], [0, 1], 'k--')\n",
    "    ax.set_xlim([0.0, 1.0])\n",
    "    ax.set_ylim([0.0, 1.05])\n",
    "    ax.set_xlabel('False Positive Rate')\n",
    "    ax.set_ylabel('True Positive Rate')\n",
    "    ax.set_title('Receiver operating characteristic example')\n",
    "    for i in range(n_classes):\n",
    "        ax.plot(fpr[i], tpr[i], label='ROC curve (area = %0.2f) for label %i' % (roc_auc[i], i))\n",
    "    ax.legend(loc=\"best\")\n",
    "    ax.grid(alpha=.4)\n",
    "    sns.despine()\n",
    "    plt.show()"
   ]
  },
  {
   "cell_type": "code",
   "execution_count": 66,
   "id": "9adb183c",
   "metadata": {},
   "outputs": [
    {
     "data": {
      "image/png": "[encoded data removed]",
      "text/plain": [
       "<Figure size 576x288 with 1 Axes>"
      ]
     },
     "metadata": {
      "needs_background": "light"
     },
     "output_type": "display_data"
    }
   ],
   "source": [
    "#Imbalanced data\n",
    "plot_multiclass_roc(classification, X_id_test, y_id_test, n_classes=2, figsize=(8, 4))"
   ]
  },
  {
   "cell_type": "code",
   "execution_count": 67,
   "id": "2eca53ec",
   "metadata": {},
   "outputs": [
    {
     "data": {
      "image/png": "[encoded data removed]",
      "text/plain": [
       "<Figure size 576x288 with 1 Axes>"
      ]
     },
     "metadata": {
      "needs_background": "light"
     },
     "output_type": "display_data"
    }
   ],
   "source": [
    "#KNN\n",
    "plot_multiclass_roc(classification, X_knn_test, y_knn_test, n_classes=2, figsize=(8, 4))"
   ]
  },
  {
   "cell_type": "markdown",
   "id": "72dff7d0",
   "metadata": {},
   "source": [
    "#### 5.3.2. Classification Report"
   ]
  },
  {
   "cell_type": "code",
   "execution_count": 68,
   "id": "6ebb9f48",
   "metadata": {},
   "outputs": [
    {
     "name": "stdout",
     "output_type": "stream",
     "text": [
      "              precision    recall  f1-score   support\n",
      "\n",
      "          No       0.72      0.68      0.70      3382\n",
      "         Yes       0.70      0.74      0.72      3396\n",
      "\n",
      "    accuracy                           0.71      6778\n",
      "   macro avg       0.71      0.71      0.71      6778\n",
      "weighted avg       0.71      0.71      0.71      6778\n",
      "\n"
     ]
    }
   ],
   "source": [
    "#Imbalanced data\n",
    "print(metrics.classification_report(y_id_test, predictions_id))"
   ]
  },
  {
   "cell_type": "code",
   "execution_count": 69,
   "id": "8eb42b9c",
   "metadata": {},
   "outputs": [
    {
     "name": "stdout",
     "output_type": "stream",
     "text": [
      "              precision    recall  f1-score   support\n",
      "\n",
      "          No       0.97      0.68      0.80      3390\n",
      "         Yes       0.12      0.69      0.20       204\n",
      "\n",
      "    accuracy                           0.68      3594\n",
      "   macro avg       0.54      0.69      0.50      3594\n",
      "weighted avg       0.92      0.68      0.77      3594\n",
      "\n"
     ]
    }
   ],
   "source": [
    "#KNN\n",
    "print(metrics.classification_report(y_knn_test, predictions_knn))"
   ]
  },
  {
   "cell_type": "markdown",
   "id": "d15087e7",
   "metadata": {},
   "source": [
    "#### Conclusion\n",
    "\n",
    "- KNN model\n",
    "Even if the KNN model presents a high precision for 'No' (0.97), the precision for 'Yes' (0.12) is low.\n",
    "This volatility is also present at the F1-score metric.\n",
    "Regarding accuracy, the observed levels are lower when comparing to the other model.\n",
    "\n",
    "- Imbalanced model\n",
    "By the other hand, the Imbalanced data model shows more consistency presenting precisions of 0.72 and 0.70 for 'No' and 'Yes', recpectively.\n",
    "This behaviour could also be seen at other metrics as accuracy, recall and F1-score.\n",
    "\n",
    "- Chosen model\n",
    "Based on that, the Imbalanced data model has a better fit for the data set."
   ]
  }
 ],
 "metadata": {
  "kernelspec": {
   "display_name": "Python 3",
   "language": "python",
   "name": "python3"
  },
  "language_info": {
   "codemirror_mode": {
    "name": "ipython",
    "version": 3
   },
   "file_extension": ".py",
   "mimetype": "text/x-python",
   "name": "python",
   "nbconvert_exporter": "python",
   "pygments_lexer": "ipython3",
   "version": "3.8.8"
  }
 },
 "nbformat": 4,
 "nbformat_minor": 5
}
