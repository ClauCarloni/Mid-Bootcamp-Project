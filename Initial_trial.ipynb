{
 "cells": [
  {
   "cell_type": "markdown",
   "id": "4e9bf293",
   "metadata": {},
   "source": [
    "# Classification Algorithm:\n",
    "\n",
    "- Data Description.\n",
    "\n",
    "- Goal.\n",
    "    \n",
    "Using logistic regression to understand the demographics and other characteristics of a bank customers' that accept a credit card offer and that do not accept a credit card.\n",
    "\n",
    "Data cleaning, wrangling and EDA on a database relative to an automobile portfolio from an insurance company. The goal is to analyze the data and define a model that fits to do predictions. The the variable 'total claim amount' should be considered as a target."
   ]
  },
  {
   "cell_type": "markdown",
   "id": "ab64c092",
   "metadata": {},
   "source": [
    "## 1. Importing used packages"
   ]
  },
  {
   "cell_type": "code",
   "execution_count": 1,
   "id": "af032b9e",
   "metadata": {},
   "outputs": [
    {
     "name": "stdout",
     "output_type": "stream",
     "text": [
      "········\n"
     ]
    }
   ],
   "source": [
    "import pymysql\n",
    "from sqlalchemy import create_engine\n",
    "from scipy import stats\n",
    "import pandas as pd\n",
    "import numpy as np\n",
    "import re\n",
    "import matplotlib.pyplot as plt\n",
    "import seaborn as sns\n",
    "from sklearn.model_selection import train_test_split\n",
    "from sklearn.linear_model import LogisticRegression\n",
    "from sklearn.metrics import confusion_matrix\n",
    "from sklearn.metrics import plot_confusion_matrix\n",
    "from sklearn.metrics import mean_absolute_error\n",
    "from sklearn.metrics import mean_squared_error\n",
    "from sklearn.metrics import r2_score\n",
    "from sklearn.preprocessing import StandardScaler\n",
    "from sklearn.preprocessing import OneHotEncoder\n",
    "from sklearn.model_selection import train_test_split\n",
    "from sklearn.neighbors import KNeighborsRegressor\n",
    "from sklearn.neighbors import KNeighborsClassifier\n",
    "from sklearn import metrics\n",
    "from sklearn.preprocessing import StandardScaler\n",
    "from imblearn.over_sampling import SMOTE\n",
    "from imblearn.under_sampling import TomekLinks\n",
    "from imblearn.over_sampling import SMOTE\n",
    "import getpass\n",
    "password = getpass.getpass()\n",
    "\n",
    "connection_string = 'mysql+pymysql://root:' + password + '@localhost/mid_project'\n",
    "engine = create_engine(connection_string)\n",
    "\n",
    "import warnings\n",
    "warnings.filterwarnings('ignore')"
   ]
  },
  {
   "cell_type": "markdown",
   "id": "a3f9010a",
   "metadata": {},
   "source": [
    "## 2. Getting Data"
   ]
  },
  {
   "cell_type": "code",
   "execution_count": 2,
   "id": "713db772",
   "metadata": {},
   "outputs": [
    {
     "data": {
      "text/html": [
       "<div>\n",
       "<style scoped>\n",
       "    .dataframe tbody tr th:only-of-type {\n",
       "        vertical-align: middle;\n",
       "    }\n",
       "\n",
       "    .dataframe tbody tr th {\n",
       "        vertical-align: top;\n",
       "    }\n",
       "\n",
       "    .dataframe thead th {\n",
       "        text-align: right;\n",
       "    }\n",
       "</style>\n",
       "<table border=\"1\" class=\"dataframe\">\n",
       "  <thead>\n",
       "    <tr style=\"text-align: right;\">\n",
       "      <th></th>\n",
       "      <th>ï»¿Customer Number</th>\n",
       "      <th>Offer Accepted</th>\n",
       "      <th>Reward</th>\n",
       "      <th>Mailer Type</th>\n",
       "      <th>Income Level</th>\n",
       "      <th># Bank Accounts Open</th>\n",
       "      <th>Overdraft Protection</th>\n",
       "      <th>Credit Rating</th>\n",
       "      <th># Credit Cards Held</th>\n",
       "      <th># Homes Owned</th>\n",
       "      <th>Household Size</th>\n",
       "      <th>Own Your Home</th>\n",
       "      <th>Average Balance</th>\n",
       "      <th>Q1 Balance</th>\n",
       "      <th>Q2 Balance</th>\n",
       "      <th>Q3 Balance</th>\n",
       "      <th>Q4 Balance</th>\n",
       "    </tr>\n",
       "  </thead>\n",
       "  <tbody>\n",
       "    <tr>\n",
       "      <th>0</th>\n",
       "      <td>1</td>\n",
       "      <td>No</td>\n",
       "      <td>Air Miles</td>\n",
       "      <td>Letter</td>\n",
       "      <td>High</td>\n",
       "      <td>1</td>\n",
       "      <td>No</td>\n",
       "      <td>High</td>\n",
       "      <td>2</td>\n",
       "      <td>1</td>\n",
       "      <td>4</td>\n",
       "      <td>No</td>\n",
       "      <td>1160.75</td>\n",
       "      <td>1669</td>\n",
       "      <td>877</td>\n",
       "      <td>1095</td>\n",
       "      <td>1002</td>\n",
       "    </tr>\n",
       "    <tr>\n",
       "      <th>1</th>\n",
       "      <td>2</td>\n",
       "      <td>No</td>\n",
       "      <td>Air Miles</td>\n",
       "      <td>Letter</td>\n",
       "      <td>Medium</td>\n",
       "      <td>1</td>\n",
       "      <td>No</td>\n",
       "      <td>Medium</td>\n",
       "      <td>2</td>\n",
       "      <td>2</td>\n",
       "      <td>5</td>\n",
       "      <td>Yes</td>\n",
       "      <td>147.25</td>\n",
       "      <td>39</td>\n",
       "      <td>106</td>\n",
       "      <td>78</td>\n",
       "      <td>366</td>\n",
       "    </tr>\n",
       "    <tr>\n",
       "      <th>2</th>\n",
       "      <td>3</td>\n",
       "      <td>No</td>\n",
       "      <td>Air Miles</td>\n",
       "      <td>Postcard</td>\n",
       "      <td>High</td>\n",
       "      <td>2</td>\n",
       "      <td>No</td>\n",
       "      <td>Medium</td>\n",
       "      <td>2</td>\n",
       "      <td>1</td>\n",
       "      <td>2</td>\n",
       "      <td>Yes</td>\n",
       "      <td>276.50</td>\n",
       "      <td>367</td>\n",
       "      <td>352</td>\n",
       "      <td>145</td>\n",
       "      <td>242</td>\n",
       "    </tr>\n",
       "    <tr>\n",
       "      <th>3</th>\n",
       "      <td>4</td>\n",
       "      <td>No</td>\n",
       "      <td>Air Miles</td>\n",
       "      <td>Letter</td>\n",
       "      <td>Medium</td>\n",
       "      <td>2</td>\n",
       "      <td>No</td>\n",
       "      <td>High</td>\n",
       "      <td>1</td>\n",
       "      <td>1</td>\n",
       "      <td>4</td>\n",
       "      <td>No</td>\n",
       "      <td>1219.00</td>\n",
       "      <td>1578</td>\n",
       "      <td>1760</td>\n",
       "      <td>1119</td>\n",
       "      <td>419</td>\n",
       "    </tr>\n",
       "    <tr>\n",
       "      <th>4</th>\n",
       "      <td>5</td>\n",
       "      <td>No</td>\n",
       "      <td>Air Miles</td>\n",
       "      <td>Letter</td>\n",
       "      <td>Medium</td>\n",
       "      <td>1</td>\n",
       "      <td>No</td>\n",
       "      <td>Medium</td>\n",
       "      <td>2</td>\n",
       "      <td>1</td>\n",
       "      <td>6</td>\n",
       "      <td>Yes</td>\n",
       "      <td>1211.00</td>\n",
       "      <td>2140</td>\n",
       "      <td>1357</td>\n",
       "      <td>982</td>\n",
       "      <td>365</td>\n",
       "    </tr>\n",
       "    <tr>\n",
       "      <th>...</th>\n",
       "      <td>...</td>\n",
       "      <td>...</td>\n",
       "      <td>...</td>\n",
       "      <td>...</td>\n",
       "      <td>...</td>\n",
       "      <td>...</td>\n",
       "      <td>...</td>\n",
       "      <td>...</td>\n",
       "      <td>...</td>\n",
       "      <td>...</td>\n",
       "      <td>...</td>\n",
       "      <td>...</td>\n",
       "      <td>...</td>\n",
       "      <td>...</td>\n",
       "      <td>...</td>\n",
       "      <td>...</td>\n",
       "      <td>...</td>\n",
       "    </tr>\n",
       "    <tr>\n",
       "      <th>17971</th>\n",
       "      <td>17996</td>\n",
       "      <td>No</td>\n",
       "      <td>Cash Back</td>\n",
       "      <td>Letter</td>\n",
       "      <td>High</td>\n",
       "      <td>1</td>\n",
       "      <td>No</td>\n",
       "      <td>Low</td>\n",
       "      <td>1</td>\n",
       "      <td>1</td>\n",
       "      <td>5</td>\n",
       "      <td>Yes</td>\n",
       "      <td>167.50</td>\n",
       "      <td>136</td>\n",
       "      <td>65</td>\n",
       "      <td>71</td>\n",
       "      <td>398</td>\n",
       "    </tr>\n",
       "    <tr>\n",
       "      <th>17972</th>\n",
       "      <td>17997</td>\n",
       "      <td>No</td>\n",
       "      <td>Cash Back</td>\n",
       "      <td>Letter</td>\n",
       "      <td>High</td>\n",
       "      <td>1</td>\n",
       "      <td>No</td>\n",
       "      <td>Low</td>\n",
       "      <td>3</td>\n",
       "      <td>1</td>\n",
       "      <td>3</td>\n",
       "      <td>Yes</td>\n",
       "      <td>850.50</td>\n",
       "      <td>984</td>\n",
       "      <td>940</td>\n",
       "      <td>943</td>\n",
       "      <td>535</td>\n",
       "    </tr>\n",
       "    <tr>\n",
       "      <th>17973</th>\n",
       "      <td>17998</td>\n",
       "      <td>No</td>\n",
       "      <td>Cash Back</td>\n",
       "      <td>Letter</td>\n",
       "      <td>High</td>\n",
       "      <td>1</td>\n",
       "      <td>No</td>\n",
       "      <td>Low</td>\n",
       "      <td>2</td>\n",
       "      <td>1</td>\n",
       "      <td>4</td>\n",
       "      <td>No</td>\n",
       "      <td>1087.25</td>\n",
       "      <td>918</td>\n",
       "      <td>767</td>\n",
       "      <td>1170</td>\n",
       "      <td>1494</td>\n",
       "    </tr>\n",
       "    <tr>\n",
       "      <th>17974</th>\n",
       "      <td>17999</td>\n",
       "      <td>No</td>\n",
       "      <td>Cash Back</td>\n",
       "      <td>Letter</td>\n",
       "      <td>Medium</td>\n",
       "      <td>1</td>\n",
       "      <td>No</td>\n",
       "      <td>Medium</td>\n",
       "      <td>4</td>\n",
       "      <td>2</td>\n",
       "      <td>2</td>\n",
       "      <td>Yes</td>\n",
       "      <td>1022.25</td>\n",
       "      <td>626</td>\n",
       "      <td>983</td>\n",
       "      <td>865</td>\n",
       "      <td>1615</td>\n",
       "    </tr>\n",
       "    <tr>\n",
       "      <th>17975</th>\n",
       "      <td>18000</td>\n",
       "      <td>No</td>\n",
       "      <td>Cash Back</td>\n",
       "      <td>Letter</td>\n",
       "      <td>Low</td>\n",
       "      <td>2</td>\n",
       "      <td>No</td>\n",
       "      <td>Medium</td>\n",
       "      <td>2</td>\n",
       "      <td>1</td>\n",
       "      <td>3</td>\n",
       "      <td>No</td>\n",
       "      <td>1056.00</td>\n",
       "      <td>265</td>\n",
       "      <td>1378</td>\n",
       "      <td>1978</td>\n",
       "      <td>603</td>\n",
       "    </tr>\n",
       "  </tbody>\n",
       "</table>\n",
       "<p>17976 rows × 17 columns</p>\n",
       "</div>"
      ],
      "text/plain": [
       "       ï»¿Customer Number Offer Accepted     Reward Mailer Type Income Level  \\\n",
       "0                       1             No  Air Miles      Letter         High   \n",
       "1                       2             No  Air Miles      Letter       Medium   \n",
       "2                       3             No  Air Miles    Postcard         High   \n",
       "3                       4             No  Air Miles      Letter       Medium   \n",
       "4                       5             No  Air Miles      Letter       Medium   \n",
       "...                   ...            ...        ...         ...          ...   \n",
       "17971               17996             No  Cash Back      Letter         High   \n",
       "17972               17997             No  Cash Back      Letter         High   \n",
       "17973               17998             No  Cash Back      Letter         High   \n",
       "17974               17999             No  Cash Back      Letter       Medium   \n",
       "17975               18000             No  Cash Back      Letter          Low   \n",
       "\n",
       "       # Bank Accounts Open Overdraft Protection Credit Rating  \\\n",
       "0                         1                   No          High   \n",
       "1                         1                   No        Medium   \n",
       "2                         2                   No        Medium   \n",
       "3                         2                   No          High   \n",
       "4                         1                   No        Medium   \n",
       "...                     ...                  ...           ...   \n",
       "17971                     1                   No           Low   \n",
       "17972                     1                   No           Low   \n",
       "17973                     1                   No           Low   \n",
       "17974                     1                   No        Medium   \n",
       "17975                     2                   No        Medium   \n",
       "\n",
       "       # Credit Cards Held  # Homes Owned  Household Size Own Your Home  \\\n",
       "0                        2              1               4            No   \n",
       "1                        2              2               5           Yes   \n",
       "2                        2              1               2           Yes   \n",
       "3                        1              1               4            No   \n",
       "4                        2              1               6           Yes   \n",
       "...                    ...            ...             ...           ...   \n",
       "17971                    1              1               5           Yes   \n",
       "17972                    3              1               3           Yes   \n",
       "17973                    2              1               4            No   \n",
       "17974                    4              2               2           Yes   \n",
       "17975                    2              1               3            No   \n",
       "\n",
       "       Average Balance  Q1 Balance  Q2 Balance  Q3 Balance  Q4 Balance  \n",
       "0              1160.75        1669         877        1095        1002  \n",
       "1               147.25          39         106          78         366  \n",
       "2               276.50         367         352         145         242  \n",
       "3              1219.00        1578        1760        1119         419  \n",
       "4              1211.00        2140        1357         982         365  \n",
       "...                ...         ...         ...         ...         ...  \n",
       "17971           167.50         136          65          71         398  \n",
       "17972           850.50         984         940         943         535  \n",
       "17973          1087.25         918         767        1170        1494  \n",
       "17974          1022.25         626         983         865        1615  \n",
       "17975          1056.00         265        1378        1978         603  \n",
       "\n",
       "[17976 rows x 17 columns]"
      ]
     },
     "execution_count": 2,
     "metadata": {},
     "output_type": "execute_result"
    }
   ],
   "source": [
    "query = '''SELECT *\n",
    "           FROM creditcardmarketing\n",
    "           ;'''\n",
    "\n",
    "data = pd.read_sql_query(query, engine)\n",
    "data"
   ]
  },
  {
   "cell_type": "markdown",
   "id": "e88b04b3",
   "metadata": {},
   "source": [
    "## 3. Cleaning/Wrangling/EDA\n",
    "\n",
    "- Change headers names.\n",
    "- Deal with NaN values.\n",
    "- Categorical Features.\n",
    "- Numerical Features.\n",
    "- Exploration."
   ]
  },
  {
   "cell_type": "code",
   "execution_count": 3,
   "id": "07bb88ef",
   "metadata": {},
   "outputs": [
    {
     "data": {
      "text/plain": [
       "((17976, 17),\n",
       " ï»¿Customer Number        int64\n",
       " Offer Accepted           object\n",
       " Reward                   object\n",
       " Mailer Type              object\n",
       " Income Level             object\n",
       " # Bank Accounts Open      int64\n",
       " Overdraft Protection     object\n",
       " Credit Rating            object\n",
       " # Credit Cards Held       int64\n",
       " # Homes Owned             int64\n",
       " Household Size            int64\n",
       " Own Your Home            object\n",
       " Average Balance         float64\n",
       " Q1 Balance                int64\n",
       " Q2 Balance                int64\n",
       " Q3 Balance                int64\n",
       " Q4 Balance                int64\n",
       " dtype: object)"
      ]
     },
     "execution_count": 3,
     "metadata": {},
     "output_type": "execute_result"
    }
   ],
   "source": [
    "data.shape, data.dtypes"
   ]
  },
  {
   "cell_type": "markdown",
   "id": "d677d1f1",
   "metadata": {},
   "source": [
    "### 3.1. Creating a function to clean the headers\n",
    "- Renaming the columns so they follow the PE8 (snake case)\n",
    "- Renaming the columns taking out non alphanumeric characters"
   ]
  },
  {
   "cell_type": "code",
   "execution_count": 4,
   "id": "2b08dc70",
   "metadata": {},
   "outputs": [],
   "source": [
    "def clean_header(df):\n",
    "        pattern = '[\\W]'\n",
    "        df.columns = [x.lower().replace(\" \", \"_\") for x in df.columns]\n",
    "        df.columns = [re.sub(pattern, \"\", x) for x in df.columns]\n",
    "        return df"
   ]
  },
  {
   "cell_type": "code",
   "execution_count": 5,
   "id": "4ab4dde5",
   "metadata": {},
   "outputs": [],
   "source": [
    "# Another way to clean the headers:\n",
    "def clean_headers(df):\n",
    "    df.columns = [x.lower().replace(\" \", \"_\") for x in df.columns]\n",
    "    num = ['0', '1', '2', '3', '4', '5', '6', '7', '8', '9']\n",
    "    char = ['a', 'b', 'c', 'd', 'e', 'f', 'g', 'h', 'i', 'j', 'k', 'l', 'm'\n",
    "            , 'n', 'o', 'p', 'q', 'r', 's', 't', 'u', 'v', 'w', 'x', 'y', 'z']\n",
    "    keep = ['_']\n",
    "    cols = df.columns\n",
    "    new_col_names = []\n",
    "    for col in cols:\n",
    "        new_col = ''\n",
    "        for alphabet in col:\n",
    "            if (alphabet in num) or (alphabet in char) or (alphabet in keep):\n",
    "                new_col += alphabet\n",
    "        new_col_names.append(new_col)\n",
    "\n",
    "    df.columns = new_col_names\n",
    "    return df"
   ]
  },
  {
   "cell_type": "code",
   "execution_count": 6,
   "id": "4670c3ae",
   "metadata": {
    "scrolled": true
   },
   "outputs": [
    {
     "data": {
      "text/plain": [
       "Index(['customer_number', 'offer_accepted', 'reward', 'mailer_type',\n",
       "       'income_level', '_bank_accounts_open', 'overdraft_protection',\n",
       "       'credit_rating', '_credit_cards_held', '_homes_owned', 'household_size',\n",
       "       'own_your_home', 'average_balance', 'q1_balance', 'q2_balance',\n",
       "       'q3_balance', 'q4_balance'],\n",
       "      dtype='object')"
      ]
     },
     "execution_count": 6,
     "metadata": {},
     "output_type": "execute_result"
    }
   ],
   "source": [
    "data = clean_headers(data) #or clean_header(data)\n",
    "data.columns\n",
    "\n",
    "# If using the function clean_header(data)\n",
    "# it would be also necessary rename the remaining column with the character 'ï':\n",
    "# data.rename(columns={'ïcustomer_number':'customer_number'}, inplace=True)"
   ]
  },
  {
   "cell_type": "markdown",
   "id": "fc113ab8",
   "metadata": {},
   "source": [
    "### 3.2. NaN values"
   ]
  },
  {
   "cell_type": "code",
   "execution_count": 7,
   "id": "4af21dd3",
   "metadata": {},
   "outputs": [
    {
     "data": {
      "text/plain": [
       "customer_number         0\n",
       "offer_accepted          0\n",
       "reward                  0\n",
       "mailer_type             0\n",
       "income_level            0\n",
       "_bank_accounts_open     0\n",
       "overdraft_protection    0\n",
       "credit_rating           0\n",
       "_credit_cards_held      0\n",
       "_homes_owned            0\n",
       "household_size          0\n",
       "own_your_home           0\n",
       "average_balance         0\n",
       "q1_balance              0\n",
       "q2_balance              0\n",
       "q3_balance              0\n",
       "q4_balance              0\n",
       "dtype: int64"
      ]
     },
     "execution_count": 7,
     "metadata": {},
     "output_type": "execute_result"
    }
   ],
   "source": [
    "# Checking NaN values\n",
    "data.isna().sum()"
   ]
  },
  {
   "cell_type": "markdown",
   "id": "4a3e155e",
   "metadata": {},
   "source": [
    "### 3.3. Numerical Features"
   ]
  },
  {
   "cell_type": "code",
   "execution_count": 8,
   "id": "972fbbe3",
   "metadata": {},
   "outputs": [
    {
     "data": {
      "text/html": [
       "<div>\n",
       "<style scoped>\n",
       "    .dataframe tbody tr th:only-of-type {\n",
       "        vertical-align: middle;\n",
       "    }\n",
       "\n",
       "    .dataframe tbody tr th {\n",
       "        vertical-align: top;\n",
       "    }\n",
       "\n",
       "    .dataframe thead th {\n",
       "        text-align: right;\n",
       "    }\n",
       "</style>\n",
       "<table border=\"1\" class=\"dataframe\">\n",
       "  <thead>\n",
       "    <tr style=\"text-align: right;\">\n",
       "      <th></th>\n",
       "      <th>count</th>\n",
       "      <th>mean</th>\n",
       "      <th>std</th>\n",
       "      <th>min</th>\n",
       "      <th>25%</th>\n",
       "      <th>50%</th>\n",
       "      <th>75%</th>\n",
       "      <th>max</th>\n",
       "    </tr>\n",
       "  </thead>\n",
       "  <tbody>\n",
       "    <tr>\n",
       "      <th>customer_number</th>\n",
       "      <td>17976.0</td>\n",
       "      <td>8999.73</td>\n",
       "      <td>5196.96</td>\n",
       "      <td>1.00</td>\n",
       "      <td>4498.75</td>\n",
       "      <td>9000.5</td>\n",
       "      <td>13501.25</td>\n",
       "      <td>18000.00</td>\n",
       "    </tr>\n",
       "    <tr>\n",
       "      <th>_bank_accounts_open</th>\n",
       "      <td>17976.0</td>\n",
       "      <td>1.26</td>\n",
       "      <td>0.47</td>\n",
       "      <td>1.00</td>\n",
       "      <td>1.00</td>\n",
       "      <td>1.0</td>\n",
       "      <td>1.00</td>\n",
       "      <td>3.00</td>\n",
       "    </tr>\n",
       "    <tr>\n",
       "      <th>_credit_cards_held</th>\n",
       "      <td>17976.0</td>\n",
       "      <td>1.90</td>\n",
       "      <td>0.80</td>\n",
       "      <td>1.00</td>\n",
       "      <td>1.00</td>\n",
       "      <td>2.0</td>\n",
       "      <td>2.00</td>\n",
       "      <td>4.00</td>\n",
       "    </tr>\n",
       "    <tr>\n",
       "      <th>_homes_owned</th>\n",
       "      <td>17976.0</td>\n",
       "      <td>1.20</td>\n",
       "      <td>0.43</td>\n",
       "      <td>1.00</td>\n",
       "      <td>1.00</td>\n",
       "      <td>1.0</td>\n",
       "      <td>1.00</td>\n",
       "      <td>3.00</td>\n",
       "    </tr>\n",
       "    <tr>\n",
       "      <th>household_size</th>\n",
       "      <td>17976.0</td>\n",
       "      <td>3.50</td>\n",
       "      <td>1.11</td>\n",
       "      <td>1.00</td>\n",
       "      <td>3.00</td>\n",
       "      <td>3.0</td>\n",
       "      <td>4.00</td>\n",
       "      <td>9.00</td>\n",
       "    </tr>\n",
       "    <tr>\n",
       "      <th>average_balance</th>\n",
       "      <td>17976.0</td>\n",
       "      <td>940.52</td>\n",
       "      <td>350.30</td>\n",
       "      <td>48.25</td>\n",
       "      <td>787.50</td>\n",
       "      <td>1007.0</td>\n",
       "      <td>1153.25</td>\n",
       "      <td>3366.25</td>\n",
       "    </tr>\n",
       "    <tr>\n",
       "      <th>q1_balance</th>\n",
       "      <td>17976.0</td>\n",
       "      <td>910.45</td>\n",
       "      <td>620.08</td>\n",
       "      <td>0.00</td>\n",
       "      <td>392.75</td>\n",
       "      <td>772.0</td>\n",
       "      <td>1521.00</td>\n",
       "      <td>3450.00</td>\n",
       "    </tr>\n",
       "    <tr>\n",
       "      <th>q2_balance</th>\n",
       "      <td>17976.0</td>\n",
       "      <td>999.39</td>\n",
       "      <td>457.40</td>\n",
       "      <td>0.00</td>\n",
       "      <td>663.00</td>\n",
       "      <td>1032.0</td>\n",
       "      <td>1342.00</td>\n",
       "      <td>3421.00</td>\n",
       "    </tr>\n",
       "    <tr>\n",
       "      <th>q3_balance</th>\n",
       "      <td>17976.0</td>\n",
       "      <td>1042.03</td>\n",
       "      <td>553.45</td>\n",
       "      <td>0.00</td>\n",
       "      <td>633.00</td>\n",
       "      <td>945.5</td>\n",
       "      <td>1463.00</td>\n",
       "      <td>3823.00</td>\n",
       "    </tr>\n",
       "    <tr>\n",
       "      <th>q4_balance</th>\n",
       "      <td>17976.0</td>\n",
       "      <td>810.19</td>\n",
       "      <td>559.00</td>\n",
       "      <td>0.00</td>\n",
       "      <td>363.00</td>\n",
       "      <td>703.0</td>\n",
       "      <td>1212.00</td>\n",
       "      <td>4215.00</td>\n",
       "    </tr>\n",
       "  </tbody>\n",
       "</table>\n",
       "</div>"
      ],
      "text/plain": [
       "                       count     mean      std    min      25%     50%  \\\n",
       "customer_number      17976.0  8999.73  5196.96   1.00  4498.75  9000.5   \n",
       "_bank_accounts_open  17976.0     1.26     0.47   1.00     1.00     1.0   \n",
       "_credit_cards_held   17976.0     1.90     0.80   1.00     1.00     2.0   \n",
       "_homes_owned         17976.0     1.20     0.43   1.00     1.00     1.0   \n",
       "household_size       17976.0     3.50     1.11   1.00     3.00     3.0   \n",
       "average_balance      17976.0   940.52   350.30  48.25   787.50  1007.0   \n",
       "q1_balance           17976.0   910.45   620.08   0.00   392.75   772.0   \n",
       "q2_balance           17976.0   999.39   457.40   0.00   663.00  1032.0   \n",
       "q3_balance           17976.0  1042.03   553.45   0.00   633.00   945.5   \n",
       "q4_balance           17976.0   810.19   559.00   0.00   363.00   703.0   \n",
       "\n",
       "                          75%       max  \n",
       "customer_number      13501.25  18000.00  \n",
       "_bank_accounts_open      1.00      3.00  \n",
       "_credit_cards_held       2.00      4.00  \n",
       "_homes_owned             1.00      3.00  \n",
       "household_size           4.00      9.00  \n",
       "average_balance       1153.25   3366.25  \n",
       "q1_balance            1521.00   3450.00  \n",
       "q2_balance            1342.00   3421.00  \n",
       "q3_balance            1463.00   3823.00  \n",
       "q4_balance            1212.00   4215.00  "
      ]
     },
     "execution_count": 8,
     "metadata": {},
     "output_type": "execute_result"
    }
   ],
   "source": [
    "# summary of the data\n",
    "data.describe().T.apply(lambda x: round(x,2))"
   ]
  },
  {
   "cell_type": "code",
   "execution_count": 9,
   "id": "3612ad24",
   "metadata": {},
   "outputs": [
    {
     "name": "stdout",
     "output_type": "stream",
     "text": [
      "17976\n"
     ]
    }
   ],
   "source": [
    "print(data['customer_number'].nunique())"
   ]
  },
  {
   "cell_type": "code",
   "execution_count": 10,
   "id": "d3c28e43",
   "metadata": {},
   "outputs": [
    {
     "data": {
      "text/html": [
       "<div>\n",
       "<style scoped>\n",
       "    .dataframe tbody tr th:only-of-type {\n",
       "        vertical-align: middle;\n",
       "    }\n",
       "\n",
       "    .dataframe tbody tr th {\n",
       "        vertical-align: top;\n",
       "    }\n",
       "\n",
       "    .dataframe thead th {\n",
       "        text-align: right;\n",
       "    }\n",
       "</style>\n",
       "<table border=\"1\" class=\"dataframe\">\n",
       "  <thead>\n",
       "    <tr style=\"text-align: right;\">\n",
       "      <th></th>\n",
       "      <th>offer_accepted</th>\n",
       "      <th>reward</th>\n",
       "      <th>mailer_type</th>\n",
       "      <th>income_level</th>\n",
       "      <th>_bank_accounts_open</th>\n",
       "      <th>overdraft_protection</th>\n",
       "      <th>credit_rating</th>\n",
       "      <th>_credit_cards_held</th>\n",
       "      <th>_homes_owned</th>\n",
       "      <th>household_size</th>\n",
       "      <th>own_your_home</th>\n",
       "      <th>average_balance</th>\n",
       "      <th>q1_balance</th>\n",
       "      <th>q2_balance</th>\n",
       "      <th>q3_balance</th>\n",
       "      <th>q4_balance</th>\n",
       "    </tr>\n",
       "    <tr>\n",
       "      <th>customer_number</th>\n",
       "      <th></th>\n",
       "      <th></th>\n",
       "      <th></th>\n",
       "      <th></th>\n",
       "      <th></th>\n",
       "      <th></th>\n",
       "      <th></th>\n",
       "      <th></th>\n",
       "      <th></th>\n",
       "      <th></th>\n",
       "      <th></th>\n",
       "      <th></th>\n",
       "      <th></th>\n",
       "      <th></th>\n",
       "      <th></th>\n",
       "      <th></th>\n",
       "    </tr>\n",
       "  </thead>\n",
       "  <tbody>\n",
       "    <tr>\n",
       "      <th>1</th>\n",
       "      <td>No</td>\n",
       "      <td>Air Miles</td>\n",
       "      <td>Letter</td>\n",
       "      <td>High</td>\n",
       "      <td>1</td>\n",
       "      <td>No</td>\n",
       "      <td>High</td>\n",
       "      <td>2</td>\n",
       "      <td>1</td>\n",
       "      <td>4</td>\n",
       "      <td>No</td>\n",
       "      <td>1160.75</td>\n",
       "      <td>1669</td>\n",
       "      <td>877</td>\n",
       "      <td>1095</td>\n",
       "      <td>1002</td>\n",
       "    </tr>\n",
       "    <tr>\n",
       "      <th>2</th>\n",
       "      <td>No</td>\n",
       "      <td>Air Miles</td>\n",
       "      <td>Letter</td>\n",
       "      <td>Medium</td>\n",
       "      <td>1</td>\n",
       "      <td>No</td>\n",
       "      <td>Medium</td>\n",
       "      <td>2</td>\n",
       "      <td>2</td>\n",
       "      <td>5</td>\n",
       "      <td>Yes</td>\n",
       "      <td>147.25</td>\n",
       "      <td>39</td>\n",
       "      <td>106</td>\n",
       "      <td>78</td>\n",
       "      <td>366</td>\n",
       "    </tr>\n",
       "    <tr>\n",
       "      <th>3</th>\n",
       "      <td>No</td>\n",
       "      <td>Air Miles</td>\n",
       "      <td>Postcard</td>\n",
       "      <td>High</td>\n",
       "      <td>2</td>\n",
       "      <td>No</td>\n",
       "      <td>Medium</td>\n",
       "      <td>2</td>\n",
       "      <td>1</td>\n",
       "      <td>2</td>\n",
       "      <td>Yes</td>\n",
       "      <td>276.50</td>\n",
       "      <td>367</td>\n",
       "      <td>352</td>\n",
       "      <td>145</td>\n",
       "      <td>242</td>\n",
       "    </tr>\n",
       "    <tr>\n",
       "      <th>4</th>\n",
       "      <td>No</td>\n",
       "      <td>Air Miles</td>\n",
       "      <td>Letter</td>\n",
       "      <td>Medium</td>\n",
       "      <td>2</td>\n",
       "      <td>No</td>\n",
       "      <td>High</td>\n",
       "      <td>1</td>\n",
       "      <td>1</td>\n",
       "      <td>4</td>\n",
       "      <td>No</td>\n",
       "      <td>1219.00</td>\n",
       "      <td>1578</td>\n",
       "      <td>1760</td>\n",
       "      <td>1119</td>\n",
       "      <td>419</td>\n",
       "    </tr>\n",
       "    <tr>\n",
       "      <th>5</th>\n",
       "      <td>No</td>\n",
       "      <td>Air Miles</td>\n",
       "      <td>Letter</td>\n",
       "      <td>Medium</td>\n",
       "      <td>1</td>\n",
       "      <td>No</td>\n",
       "      <td>Medium</td>\n",
       "      <td>2</td>\n",
       "      <td>1</td>\n",
       "      <td>6</td>\n",
       "      <td>Yes</td>\n",
       "      <td>1211.00</td>\n",
       "      <td>2140</td>\n",
       "      <td>1357</td>\n",
       "      <td>982</td>\n",
       "      <td>365</td>\n",
       "    </tr>\n",
       "    <tr>\n",
       "      <th>...</th>\n",
       "      <td>...</td>\n",
       "      <td>...</td>\n",
       "      <td>...</td>\n",
       "      <td>...</td>\n",
       "      <td>...</td>\n",
       "      <td>...</td>\n",
       "      <td>...</td>\n",
       "      <td>...</td>\n",
       "      <td>...</td>\n",
       "      <td>...</td>\n",
       "      <td>...</td>\n",
       "      <td>...</td>\n",
       "      <td>...</td>\n",
       "      <td>...</td>\n",
       "      <td>...</td>\n",
       "      <td>...</td>\n",
       "    </tr>\n",
       "    <tr>\n",
       "      <th>17996</th>\n",
       "      <td>No</td>\n",
       "      <td>Cash Back</td>\n",
       "      <td>Letter</td>\n",
       "      <td>High</td>\n",
       "      <td>1</td>\n",
       "      <td>No</td>\n",
       "      <td>Low</td>\n",
       "      <td>1</td>\n",
       "      <td>1</td>\n",
       "      <td>5</td>\n",
       "      <td>Yes</td>\n",
       "      <td>167.50</td>\n",
       "      <td>136</td>\n",
       "      <td>65</td>\n",
       "      <td>71</td>\n",
       "      <td>398</td>\n",
       "    </tr>\n",
       "    <tr>\n",
       "      <th>17997</th>\n",
       "      <td>No</td>\n",
       "      <td>Cash Back</td>\n",
       "      <td>Letter</td>\n",
       "      <td>High</td>\n",
       "      <td>1</td>\n",
       "      <td>No</td>\n",
       "      <td>Low</td>\n",
       "      <td>3</td>\n",
       "      <td>1</td>\n",
       "      <td>3</td>\n",
       "      <td>Yes</td>\n",
       "      <td>850.50</td>\n",
       "      <td>984</td>\n",
       "      <td>940</td>\n",
       "      <td>943</td>\n",
       "      <td>535</td>\n",
       "    </tr>\n",
       "    <tr>\n",
       "      <th>17998</th>\n",
       "      <td>No</td>\n",
       "      <td>Cash Back</td>\n",
       "      <td>Letter</td>\n",
       "      <td>High</td>\n",
       "      <td>1</td>\n",
       "      <td>No</td>\n",
       "      <td>Low</td>\n",
       "      <td>2</td>\n",
       "      <td>1</td>\n",
       "      <td>4</td>\n",
       "      <td>No</td>\n",
       "      <td>1087.25</td>\n",
       "      <td>918</td>\n",
       "      <td>767</td>\n",
       "      <td>1170</td>\n",
       "      <td>1494</td>\n",
       "    </tr>\n",
       "    <tr>\n",
       "      <th>17999</th>\n",
       "      <td>No</td>\n",
       "      <td>Cash Back</td>\n",
       "      <td>Letter</td>\n",
       "      <td>Medium</td>\n",
       "      <td>1</td>\n",
       "      <td>No</td>\n",
       "      <td>Medium</td>\n",
       "      <td>4</td>\n",
       "      <td>2</td>\n",
       "      <td>2</td>\n",
       "      <td>Yes</td>\n",
       "      <td>1022.25</td>\n",
       "      <td>626</td>\n",
       "      <td>983</td>\n",
       "      <td>865</td>\n",
       "      <td>1615</td>\n",
       "    </tr>\n",
       "    <tr>\n",
       "      <th>18000</th>\n",
       "      <td>No</td>\n",
       "      <td>Cash Back</td>\n",
       "      <td>Letter</td>\n",
       "      <td>Low</td>\n",
       "      <td>2</td>\n",
       "      <td>No</td>\n",
       "      <td>Medium</td>\n",
       "      <td>2</td>\n",
       "      <td>1</td>\n",
       "      <td>3</td>\n",
       "      <td>No</td>\n",
       "      <td>1056.00</td>\n",
       "      <td>265</td>\n",
       "      <td>1378</td>\n",
       "      <td>1978</td>\n",
       "      <td>603</td>\n",
       "    </tr>\n",
       "  </tbody>\n",
       "</table>\n",
       "<p>17976 rows × 16 columns</p>\n",
       "</div>"
      ],
      "text/plain": [
       "                offer_accepted     reward mailer_type income_level  \\\n",
       "customer_number                                                      \n",
       "1                           No  Air Miles      Letter         High   \n",
       "2                           No  Air Miles      Letter       Medium   \n",
       "3                           No  Air Miles    Postcard         High   \n",
       "4                           No  Air Miles      Letter       Medium   \n",
       "5                           No  Air Miles      Letter       Medium   \n",
       "...                        ...        ...         ...          ...   \n",
       "17996                       No  Cash Back      Letter         High   \n",
       "17997                       No  Cash Back      Letter         High   \n",
       "17998                       No  Cash Back      Letter         High   \n",
       "17999                       No  Cash Back      Letter       Medium   \n",
       "18000                       No  Cash Back      Letter          Low   \n",
       "\n",
       "                 _bank_accounts_open overdraft_protection credit_rating  \\\n",
       "customer_number                                                           \n",
       "1                                  1                   No          High   \n",
       "2                                  1                   No        Medium   \n",
       "3                                  2                   No        Medium   \n",
       "4                                  2                   No          High   \n",
       "5                                  1                   No        Medium   \n",
       "...                              ...                  ...           ...   \n",
       "17996                              1                   No           Low   \n",
       "17997                              1                   No           Low   \n",
       "17998                              1                   No           Low   \n",
       "17999                              1                   No        Medium   \n",
       "18000                              2                   No        Medium   \n",
       "\n",
       "                 _credit_cards_held  _homes_owned  household_size  \\\n",
       "customer_number                                                     \n",
       "1                                 2             1               4   \n",
       "2                                 2             2               5   \n",
       "3                                 2             1               2   \n",
       "4                                 1             1               4   \n",
       "5                                 2             1               6   \n",
       "...                             ...           ...             ...   \n",
       "17996                             1             1               5   \n",
       "17997                             3             1               3   \n",
       "17998                             2             1               4   \n",
       "17999                             4             2               2   \n",
       "18000                             2             1               3   \n",
       "\n",
       "                own_your_home  average_balance  q1_balance  q2_balance  \\\n",
       "customer_number                                                          \n",
       "1                          No          1160.75        1669         877   \n",
       "2                         Yes           147.25          39         106   \n",
       "3                         Yes           276.50         367         352   \n",
       "4                          No          1219.00        1578        1760   \n",
       "5                         Yes          1211.00        2140        1357   \n",
       "...                       ...              ...         ...         ...   \n",
       "17996                     Yes           167.50         136          65   \n",
       "17997                     Yes           850.50         984         940   \n",
       "17998                      No          1087.25         918         767   \n",
       "17999                     Yes          1022.25         626         983   \n",
       "18000                      No          1056.00         265        1378   \n",
       "\n",
       "                 q3_balance  q4_balance  \n",
       "customer_number                          \n",
       "1                      1095        1002  \n",
       "2                        78         366  \n",
       "3                       145         242  \n",
       "4                      1119         419  \n",
       "5                       982         365  \n",
       "...                     ...         ...  \n",
       "17996                    71         398  \n",
       "17997                   943         535  \n",
       "17998                  1170        1494  \n",
       "17999                   865        1615  \n",
       "18000                  1978         603  \n",
       "\n",
       "[17976 rows x 16 columns]"
      ]
     },
     "execution_count": 10,
     "metadata": {},
     "output_type": "execute_result"
    }
   ],
   "source": [
    "# As the df has 17976 rows and 'nunique() = 17976' for column 'customer_number' this column was setted as an index\n",
    "data.set_index('customer_number')"
   ]
  },
  {
   "cell_type": "markdown",
   "id": "4df9847b",
   "metadata": {},
   "source": [
    "### 3.4. Categorical Features"
   ]
  },
  {
   "cell_type": "code",
   "execution_count": 11,
   "id": "f3c8f154",
   "metadata": {},
   "outputs": [
    {
     "name": "stdout",
     "output_type": "stream",
     "text": [
      "No     16955\n",
      "Yes     1021\n",
      "Name: offer_accepted, dtype: int64 \n",
      "\n",
      "Air Miles    6047\n",
      "Cash Back    5995\n",
      "Points       5934\n",
      "Name: reward, dtype: int64 \n",
      "\n",
      "Postcard    9134\n",
      "Letter      8842\n",
      "Name: mailer_type, dtype: int64 \n",
      "\n",
      "Medium    9002\n",
      "High      4519\n",
      "Low       4455\n",
      "Name: income_level, dtype: int64 \n",
      "\n",
      "No     15300\n",
      "Yes     2676\n",
      "Name: overdraft_protection, dtype: int64 \n",
      "\n",
      "High      6064\n",
      "Medium    5964\n",
      "Low       5948\n",
      "Name: credit_rating, dtype: int64 \n",
      "\n",
      "Yes    11636\n",
      "No      6340\n",
      "Name: own_your_home, dtype: int64 \n",
      "\n"
     ]
    }
   ],
   "source": [
    "for col in data.select_dtypes('object'):\n",
    "    print(data[col].value_counts(), '\\n')\n",
    "\n",
    "# Class Imbalance DETECTED!"
   ]
  },
  {
   "cell_type": "markdown",
   "id": "83f6cf9f",
   "metadata": {},
   "source": [
    "## 4. Exploration"
   ]
  },
  {
   "cell_type": "code",
   "execution_count": 12,
   "id": "fb93098a",
   "metadata": {},
   "outputs": [
    {
     "data": {
      "text/html": [
       "<div>\n",
       "<style scoped>\n",
       "    .dataframe tbody tr th:only-of-type {\n",
       "        vertical-align: middle;\n",
       "    }\n",
       "\n",
       "    .dataframe tbody tr th {\n",
       "        vertical-align: top;\n",
       "    }\n",
       "\n",
       "    .dataframe thead th {\n",
       "        text-align: right;\n",
       "    }\n",
       "</style>\n",
       "<table border=\"1\" class=\"dataframe\">\n",
       "  <thead>\n",
       "    <tr style=\"text-align: right;\">\n",
       "      <th>income_level</th>\n",
       "      <th>High</th>\n",
       "      <th>Low</th>\n",
       "      <th>Medium</th>\n",
       "    </tr>\n",
       "    <tr>\n",
       "      <th>offer_accepted</th>\n",
       "      <th></th>\n",
       "      <th></th>\n",
       "      <th></th>\n",
       "    </tr>\n",
       "  </thead>\n",
       "  <tbody>\n",
       "    <tr>\n",
       "      <th>No</th>\n",
       "      <td>4354</td>\n",
       "      <td>4068</td>\n",
       "      <td>8533</td>\n",
       "    </tr>\n",
       "    <tr>\n",
       "      <th>Yes</th>\n",
       "      <td>165</td>\n",
       "      <td>387</td>\n",
       "      <td>469</td>\n",
       "    </tr>\n",
       "  </tbody>\n",
       "</table>\n",
       "</div>"
      ],
      "text/plain": [
       "income_level    High   Low  Medium\n",
       "offer_accepted                    \n",
       "No              4354  4068    8533\n",
       "Yes              165   387     469"
      ]
     },
     "execution_count": 12,
     "metadata": {},
     "output_type": "execute_result"
    }
   ],
   "source": [
    "# checking how many 'offer_accepted' by 'income_level'\n",
    "pd.crosstab(data['offer_accepted'], data['income_level'])"
   ]
  },
  {
   "cell_type": "code",
   "execution_count": 13,
   "id": "7990ca85",
   "metadata": {},
   "outputs": [
    {
     "data": {
      "text/html": [
       "<div>\n",
       "<style scoped>\n",
       "    .dataframe tbody tr th:only-of-type {\n",
       "        vertical-align: middle;\n",
       "    }\n",
       "\n",
       "    .dataframe tbody tr th {\n",
       "        vertical-align: top;\n",
       "    }\n",
       "\n",
       "    .dataframe thead th {\n",
       "        text-align: right;\n",
       "    }\n",
       "</style>\n",
       "<table border=\"1\" class=\"dataframe\">\n",
       "  <thead>\n",
       "    <tr style=\"text-align: right;\">\n",
       "      <th>credit_rating</th>\n",
       "      <th>High</th>\n",
       "      <th>Low</th>\n",
       "      <th>Medium</th>\n",
       "    </tr>\n",
       "    <tr>\n",
       "      <th>offer_accepted</th>\n",
       "      <th></th>\n",
       "      <th></th>\n",
       "      <th></th>\n",
       "    </tr>\n",
       "  </thead>\n",
       "  <tbody>\n",
       "    <tr>\n",
       "      <th>No</th>\n",
       "      <td>5945</td>\n",
       "      <td>5315</td>\n",
       "      <td>5695</td>\n",
       "    </tr>\n",
       "    <tr>\n",
       "      <th>Yes</th>\n",
       "      <td>119</td>\n",
       "      <td>633</td>\n",
       "      <td>269</td>\n",
       "    </tr>\n",
       "  </tbody>\n",
       "</table>\n",
       "</div>"
      ],
      "text/plain": [
       "credit_rating   High   Low  Medium\n",
       "offer_accepted                    \n",
       "No              5945  5315    5695\n",
       "Yes              119   633     269"
      ]
     },
     "execution_count": 13,
     "metadata": {},
     "output_type": "execute_result"
    }
   ],
   "source": [
    "# checking how many 'offer_accepted' by 'credit_rating'\n",
    "pd.crosstab(data['offer_accepted'], data['credit_rating'])"
   ]
  },
  {
   "cell_type": "code",
   "execution_count": 14,
   "id": "d540b168",
   "metadata": {},
   "outputs": [
    {
     "data": {
      "text/html": [
       "<div>\n",
       "<style scoped>\n",
       "    .dataframe tbody tr th:only-of-type {\n",
       "        vertical-align: middle;\n",
       "    }\n",
       "\n",
       "    .dataframe tbody tr th {\n",
       "        vertical-align: top;\n",
       "    }\n",
       "\n",
       "    .dataframe thead th {\n",
       "        text-align: right;\n",
       "    }\n",
       "</style>\n",
       "<table border=\"1\" class=\"dataframe\">\n",
       "  <thead>\n",
       "    <tr style=\"text-align: right;\">\n",
       "      <th>own_your_home</th>\n",
       "      <th>No</th>\n",
       "      <th>Yes</th>\n",
       "    </tr>\n",
       "    <tr>\n",
       "      <th>offer_accepted</th>\n",
       "      <th></th>\n",
       "      <th></th>\n",
       "    </tr>\n",
       "  </thead>\n",
       "  <tbody>\n",
       "    <tr>\n",
       "      <th>No</th>\n",
       "      <td>5980</td>\n",
       "      <td>10975</td>\n",
       "    </tr>\n",
       "    <tr>\n",
       "      <th>Yes</th>\n",
       "      <td>360</td>\n",
       "      <td>661</td>\n",
       "    </tr>\n",
       "  </tbody>\n",
       "</table>\n",
       "</div>"
      ],
      "text/plain": [
       "own_your_home     No    Yes\n",
       "offer_accepted             \n",
       "No              5980  10975\n",
       "Yes              360    661"
      ]
     },
     "execution_count": 14,
     "metadata": {},
     "output_type": "execute_result"
    }
   ],
   "source": [
    "# checking how many 'offer_accepted' by 'own_your_home'\n",
    "pd.crosstab(data['offer_accepted'], data['own_your_home'])"
   ]
  },
  {
   "cell_type": "code",
   "execution_count": 15,
   "id": "7f21f394",
   "metadata": {},
   "outputs": [
    {
     "data": {
      "image/png": "[encoded data removed]",
      "text/plain": [
       "<Figure size 720x576 with 2 Axes>"
      ]
     },
     "metadata": {
      "needs_background": "light"
     },
     "output_type": "display_data"
    }
   ],
   "source": [
    "# check the correlations\n",
    "corr_matrix=data.corr(method='pearson')  # default\n",
    "fig, ax = plt.subplots(figsize=(10, 8))\n",
    "ax = sns.heatmap(corr_matrix, annot=True)\n",
    "plt.show()"
   ]
  },
  {
   "cell_type": "code",
   "execution_count": 16,
   "id": "16080457",
   "metadata": {},
   "outputs": [],
   "source": [
    "# As the columns 'average_balance' and 'q1/2/3/4_balance' showed a high correlation they will be dropped\n",
    "data = data.drop(columns=['q1_balance', 'q2_balance', 'q3_balance', 'q4_balance'])"
   ]
  },
  {
   "cell_type": "code",
   "execution_count": 17,
   "id": "df7fe1e6",
   "metadata": {},
   "outputs": [
    {
     "data": {
      "image/png": "[encoded data removed]",
      "text/plain": [
       "<Figure size 432x288 with 1 Axes>"
      ]
     },
     "metadata": {
      "needs_background": "light"
     },
     "output_type": "display_data"
    },
    {
     "data": {
      "image/png": "[encoded data removed]",
      "text/plain": [
       "<Figure size 432x288 with 1 Axes>"
      ]
     },
     "metadata": {
      "needs_background": "light"
     },
     "output_type": "display_data"
    },
    {
     "data": {
      "image/png": "[encoded data removed]",
      "text/plain": [
       "<Figure size 432x288 with 1 Axes>"
      ]
     },
     "metadata": {
      "needs_background": "light"
     },
     "output_type": "display_data"
    },
    {
     "data": {
      "image/png": "[encoded data removed]",
      "text/plain": [
       "<Figure size 432x288 with 1 Axes>"
      ]
     },
     "metadata": {
      "needs_background": "light"
     },
     "output_type": "display_data"
    },
    {
     "data": {
      "image/png": "[encoded data removed]",
      "text/plain": [
       "<Figure size 432x288 with 1 Axes>"
      ]
     },
     "metadata": {
      "needs_background": "light"
     },
     "output_type": "display_data"
    }
   ],
   "source": [
    "for col in data.select_dtypes(np.number):\n",
    "    if col == 'customer_number':\n",
    "        pass\n",
    "    else:\n",
    "        sns.distplot(data[col])\n",
    "        plt.show()"
   ]
  },
  {
   "cell_type": "code",
   "execution_count": 18,
   "id": "875d6f09",
   "metadata": {},
   "outputs": [
    {
     "data": {
      "image/png": "[encoded data removed]",
      "text/plain": [
       "<Figure size 432x288 with 1 Axes>"
      ]
     },
     "metadata": {
      "needs_background": "light"
     },
     "output_type": "display_data"
    },
    {
     "data": {
      "image/png": "[encoded data removed]",
      "text/plain": [
       "<Figure size 432x288 with 1 Axes>"
      ]
     },
     "metadata": {
      "needs_background": "light"
     },
     "output_type": "display_data"
    },
    {
     "data": {
      "image/png": "[encoded data removed]",
      "text/plain": [
       "<Figure size 432x288 with 1 Axes>"
      ]
     },
     "metadata": {
      "needs_background": "light"
     },
     "output_type": "display_data"
    },
    {
     "data": {
      "image/png": "[encoded data removed]",
      "text/plain": [
       "<Figure size 432x288 with 1 Axes>"
      ]
     },
     "metadata": {
      "needs_background": "light"
     },
     "output_type": "display_data"
    },
    {
     "data": {
      "image/png": "[encoded data removed]",
      "text/plain": [
       "<Figure size 432x288 with 1 Axes>"
      ]
     },
     "metadata": {
      "needs_background": "light"
     },
     "output_type": "display_data"
    }
   ],
   "source": [
    "for col in data.select_dtypes(np.number):\n",
    "    if col == 'customer_number':\n",
    "        pass\n",
    "    else:\n",
    "        sns.boxplot(data[col])\n",
    "        plt.show()"
   ]
  },
  {
   "cell_type": "markdown",
   "id": "f6413a91",
   "metadata": {},
   "source": [
    "## 5. Processing Data\n",
    "\n",
    "- Dealing with outliers.\n",
    "- Normalization.\n",
    "- Dealing with imbalanced data.\n",
    "- Encoding Categorical Data.\n",
    "- Splitting into train set and test set."
   ]
  },
  {
   "cell_type": "markdown",
   "id": "f4fad866",
   "metadata": {},
   "source": [
    "### 5.1. Feature Engineering"
   ]
  },
  {
   "cell_type": "code",
   "execution_count": 19,
   "id": "12d23031",
   "metadata": {},
   "outputs": [
    {
     "data": {
      "image/png": "[encoded data removed]",
      "text/plain": [
       "<Figure size 432x288 with 1 Axes>"
      ]
     },
     "metadata": {
      "needs_background": "light"
     },
     "output_type": "display_data"
    }
   ],
   "source": [
    "upper = np.percentile(data['average_balance'],75)\n",
    "lower = np.percentile(data['average_balance'],25)\n",
    "iqr = upper - lower\n",
    "upper_limit = upper + (1.5 * iqr)\n",
    "lower_limit = lower - (1.5 * iqr)\n",
    "data = data[(data['average_balance']>lower_limit) & (data['average_balance']<upper_limit)]\n",
    "\n",
    "sns.boxplot(data['average_balance'])\n",
    "plt.show()"
   ]
  },
  {
   "cell_type": "code",
   "execution_count": 20,
   "id": "28b8f6af",
   "metadata": {},
   "outputs": [
    {
     "data": {
      "text/plain": [
       "(16535, 13)"
      ]
     },
     "execution_count": 20,
     "metadata": {},
     "output_type": "execute_result"
    }
   ],
   "source": [
    "# checking the size of the data loss after removing outliers\n",
    "data.shape"
   ]
  },
  {
   "cell_type": "code",
   "execution_count": 21,
   "id": "7c3a8ab4",
   "metadata": {},
   "outputs": [],
   "source": [
    "def boxcox_transform(df):\n",
    "    numeric_cols = df.select_dtypes(np.number).columns\n",
    "    _ci = {column: None for column in numeric_cols}\n",
    "    for column in numeric_cols:\n",
    "        # since i know any columns should take negative numbers, to avoid -inf in df\n",
    "        df[column] = np.where(df[column]<=0, np.NAN, df[column]) \n",
    "        df[column] = df[column].fillna(df[column].mean())\n",
    "        transformed_data, ci = stats.boxcox(df[column])\n",
    "        df[column] = transformed_data\n",
    "        _ci[column] = [ci] \n",
    "    return df, _ci"
   ]
  },
  {
   "cell_type": "code",
   "execution_count": 22,
   "id": "7635e47e",
   "metadata": {},
   "outputs": [
    {
     "data": {
      "image/png": "[encoded data removed]",
      "text/plain": [
       "<Figure size 432x288 with 1 Axes>"
      ]
     },
     "metadata": {
      "needs_background": "light"
     },
     "output_type": "display_data"
    }
   ],
   "source": [
    "data['average_balance'] = np.where(data['average_balance']<=0, np.NAN, data['average_balance']) \n",
    "data['average_balance'] = data['average_balance'].fillna(data['average_balance'].mean())\n",
    "transformed_data, ci = stats.boxcox(data['average_balance'])\n",
    "data['average_balance'] = transformed_data\n",
    "#_ci['average_balance'] = [ci]\n",
    "\n",
    "sns.distplot(data['average_balance'])\n",
    "plt.show()"
   ]
  },
  {
   "cell_type": "markdown",
   "id": "55fade83",
   "metadata": {},
   "source": [
    "### 5.2. Train the model"
   ]
  },
  {
   "cell_type": "markdown",
   "id": "f64024b1",
   "metadata": {},
   "source": [
    "#### 5.2.1. Dealing with imbalanced data"
   ]
  },
  {
   "cell_type": "code",
   "execution_count": 23,
   "id": "d0f5677e",
   "metadata": {},
   "outputs": [],
   "source": [
    "y_id = data['offer_accepted']\n",
    "X_id = data.drop('offer_accepted', axis=1)"
   ]
  },
  {
   "cell_type": "code",
   "execution_count": 24,
   "id": "52ee582a",
   "metadata": {},
   "outputs": [],
   "source": [
    "#Scaling numerical variables\n",
    "numericals_id = X_id.select_dtypes(np.number)\n",
    "transformer_id = StandardScaler().fit(numericals_id)\n",
    "x_id_standardized = transformer_id.transform(numericals_id)"
   ]
  },
  {
   "cell_type": "code",
   "execution_count": 25,
   "id": "2bbbb15b",
   "metadata": {},
   "outputs": [],
   "source": [
    "#Encoding categorical variables\n",
    "categoricals_id = X_id.select_dtypes(exclude=np.number)\n",
    "encoder_id = OneHotEncoder(handle_unknown='error', drop='first').fit(categoricals_id)\n",
    "encoded_id = encoder_id.transform(categoricals_id).toarray()\n",
    "#X_id = pd.get_dummies(X_id)"
   ]
  },
  {
   "cell_type": "code",
   "execution_count": 26,
   "id": "ec57acbf",
   "metadata": {},
   "outputs": [],
   "source": [
    "X_id = np.concatenate((x_id_standardized, encoded_id), axis=1)"
   ]
  },
  {
   "cell_type": "markdown",
   "id": "2c433a6e",
   "metadata": {},
   "source": [
    "- Upsampling with SMOTE"
   ]
  },
  {
   "cell_type": "code",
   "execution_count": 27,
   "id": "10dcf03f",
   "metadata": {},
   "outputs": [
    {
     "data": {
      "text/plain": [
       "No     15601\n",
       "Yes    15601\n",
       "Name: offer_accepted, dtype: int64"
      ]
     },
     "execution_count": 27,
     "metadata": {},
     "output_type": "execute_result"
    }
   ],
   "source": [
    "smote = SMOTE()\n",
    "\n",
    "X_sm, y_sm = smote.fit_resample(X_id, y_id)\n",
    "y_sm.value_counts()"
   ]
  },
  {
   "cell_type": "code",
   "execution_count": 28,
   "id": "62a26030",
   "metadata": {},
   "outputs": [],
   "source": [
    "X_id_train, X_id_test, y_id_train, y_id_test = train_test_split(X_sm, y_sm, test_size=0.2, random_state=42)"
   ]
  },
  {
   "cell_type": "code",
   "execution_count": 29,
   "id": "ac11fc71",
   "metadata": {},
   "outputs": [
    {
     "data": {
      "text/plain": [
       "LogisticRegression(max_iter=1000, random_state=42)"
      ]
     },
     "execution_count": 29,
     "metadata": {},
     "output_type": "execute_result"
    }
   ],
   "source": [
    "classification = LogisticRegression(random_state=42, max_iter=1000)\n",
    "\n",
    "classification.fit(X_id_train, y_id_train)"
   ]
  },
  {
   "cell_type": "code",
   "execution_count": 30,
   "id": "7f1abcb6",
   "metadata": {},
   "outputs": [
    {
     "data": {
      "text/plain": [
       "0.7087005287614164"
      ]
     },
     "execution_count": 30,
     "metadata": {},
     "output_type": "execute_result"
    }
   ],
   "source": [
    "classification.score(X_id_test, y_id_test)"
   ]
  },
  {
   "cell_type": "markdown",
   "id": "5f302232",
   "metadata": {},
   "source": [
    "- Upsampling using weights"
   ]
  },
  {
   "cell_type": "code",
   "execution_count": 31,
   "id": "794dbc7b",
   "metadata": {},
   "outputs": [],
   "source": [
    "total = sum(data['offer_accepted'].value_counts())\n",
    "\n",
    "weights = {'No': total/data['offer_accepted'].value_counts()['No'],\n",
    "           'Yes': total/data['offer_accepted'].value_counts()['Yes']}"
   ]
  },
  {
   "cell_type": "code",
   "execution_count": 32,
   "id": "f647f35a",
   "metadata": {},
   "outputs": [
    {
     "data": {
      "text/plain": [
       "{'No': 1.0598679571822318, 'Yes': 17.703426124197}"
      ]
     },
     "execution_count": 32,
     "metadata": {},
     "output_type": "execute_result"
    }
   ],
   "source": [
    "weights"
   ]
  },
  {
   "cell_type": "code",
   "execution_count": 33,
   "id": "52837b10",
   "metadata": {},
   "outputs": [],
   "source": [
    "classification = LogisticRegression(random_state=42, class_weight=weights)"
   ]
  },
  {
   "cell_type": "code",
   "execution_count": 34,
   "id": "1222c558",
   "metadata": {},
   "outputs": [
    {
     "data": {
      "text/plain": [
       "No     15601\n",
       "Yes      934\n",
       "Name: offer_accepted, dtype: int64"
      ]
     },
     "execution_count": 34,
     "metadata": {},
     "output_type": "execute_result"
    }
   ],
   "source": [
    "data['offer_accepted'].value_counts()"
   ]
  },
  {
   "cell_type": "code",
   "execution_count": 35,
   "id": "79df462d",
   "metadata": {},
   "outputs": [
    {
     "data": {
      "text/plain": [
       "0.5370934145169043"
      ]
     },
     "execution_count": 35,
     "metadata": {},
     "output_type": "execute_result"
    }
   ],
   "source": [
    "classification.fit(X_id_train, y_id_train)\n",
    "classification.score(X_id_test, y_id_test)"
   ]
  },
  {
   "cell_type": "markdown",
   "id": "aa5e1735",
   "metadata": {},
   "source": [
    "- Trying SMOTE again"
   ]
  },
  {
   "cell_type": "code",
   "execution_count": 36,
   "id": "943152da",
   "metadata": {},
   "outputs": [
    {
     "data": {
      "text/plain": [
       "No     15601\n",
       "Yes    15601\n",
       "Name: offer_accepted, dtype: int64"
      ]
     },
     "execution_count": 36,
     "metadata": {},
     "output_type": "execute_result"
    }
   ],
   "source": [
    "smote = SMOTE()\n",
    "\n",
    "X_sm, y_sm = smote.fit_resample(X_id, y_id)\n",
    "y_sm.value_counts()"
   ]
  },
  {
   "cell_type": "code",
   "execution_count": 37,
   "id": "5a713afe",
   "metadata": {},
   "outputs": [],
   "source": [
    "X_id_train, X_id_test, y_id_train, y_id_test = train_test_split(X_sm, y_sm, test_size=0.2, random_state=42)"
   ]
  },
  {
   "cell_type": "code",
   "execution_count": 38,
   "id": "77f4ddf7",
   "metadata": {},
   "outputs": [
    {
     "data": {
      "text/plain": [
       "0.7101426053517065"
      ]
     },
     "execution_count": 38,
     "metadata": {},
     "output_type": "execute_result"
    }
   ],
   "source": [
    "classification = LogisticRegression(random_state=42, max_iter=1000)\n",
    "\n",
    "classification.fit(X_id_train, y_id_train)\n",
    "classification.score(X_id_test, y_id_test)"
   ]
  },
  {
   "cell_type": "markdown",
   "id": "5fa3b489",
   "metadata": {},
   "source": [
    "#### 5.2.2. KNN"
   ]
  },
  {
   "cell_type": "code",
   "execution_count": 39,
   "id": "3869ab09",
   "metadata": {},
   "outputs": [],
   "source": [
    "y_knn = data['offer_accepted']\n",
    "X_knn = data.drop('offer_accepted', axis=1)"
   ]
  },
  {
   "cell_type": "code",
   "execution_count": 40,
   "id": "ff4dc43e",
   "metadata": {},
   "outputs": [],
   "source": [
    "#Scaling numerical variables\n",
    "numericals = X_knn.select_dtypes(np.number)\n",
    "transformer = StandardScaler().fit(numericals)\n",
    "x_standardized = transformer.transform(numericals)"
   ]
  },
  {
   "cell_type": "code",
   "execution_count": 41,
   "id": "55808f94",
   "metadata": {},
   "outputs": [],
   "source": [
    "#Encoding categorical variables\n",
    "categoricals = X_knn.select_dtypes(exclude=np.number)\n",
    "encoder = OneHotEncoder(handle_unknown='error', drop='first').fit(categoricals)\n",
    "encoded = encoder.transform(categoricals).toarray()"
   ]
  },
  {
   "cell_type": "code",
   "execution_count": 63,
   "id": "42994869",
   "metadata": {},
   "outputs": [],
   "source": [
    "X_knn = np.concatenate((x_standardized, encoded), axis=1)\n",
    "X_knn_train, X_knn_test, y_knn_train, y_knn_test = train_test_split(X_knn, y_knn, test_size=0.2, random_state=100)"
   ]
  },
  {
   "cell_type": "markdown",
   "id": "9e5bde0a",
   "metadata": {},
   "source": [
    "#### Choosing the best value of `k` for the `KNN`"
   ]
  },
  {
   "cell_type": "code",
   "execution_count": 64,
   "id": "cc4b1afe",
   "metadata": {},
   "outputs": [],
   "source": [
    "scores = []\n",
    "for i in range(2,10):\n",
    "    model = KNeighborsClassifier(n_neighbors=i)\n",
    "    model.fit(X_knn_train, y_knn_train)\n",
    "    scores.append(model.score(X_knn_test, y_knn_test))"
   ]
  },
  {
   "cell_type": "code",
   "execution_count": 65,
   "id": "cea44d36",
   "metadata": {},
   "outputs": [
    {
     "data": {
      "text/plain": [
       "Text(0, 0.5, 'Accuracy')"
      ]
     },
     "execution_count": 65,
     "metadata": {},
     "output_type": "execute_result"
    },
    {
     "data": {
      "image/png": "[encoded data removed]",
      "text/plain": [
       "<Figure size 720x432 with 1 Axes>"
      ]
     },
     "metadata": {
      "needs_background": "light"
     },
     "output_type": "display_data"
    }
   ],
   "source": [
    "plt.figure(figsize=(10,6))\n",
    "plt.plot(range(2,10),scores,color = 'blue', linestyle='dashed',\n",
    "         marker='o', markerfacecolor='red', markersize=10)\n",
    "plt.title('accuracy scores vs. K Value')\n",
    "plt.xlabel('K')\n",
    "plt.ylabel('Accuracy')"
   ]
  },
  {
   "cell_type": "code",
   "execution_count": 66,
   "id": "e2f879b0",
   "metadata": {},
   "outputs": [
    {
     "data": {
      "text/plain": [
       "KNeighborsClassifier(n_neighbors=4)"
      ]
     },
     "execution_count": 66,
     "metadata": {},
     "output_type": "execute_result"
    }
   ],
   "source": [
    "#Back to the model\n",
    "model = KNeighborsClassifier(n_neighbors=4)\n",
    "#4 instead of 6 bc both numbers give similar results and a smaller number runs faster\n",
    "model.fit(X_knn_train, y_knn_train)"
   ]
  },
  {
   "cell_type": "code",
   "execution_count": 67,
   "id": "6b41b059",
   "metadata": {},
   "outputs": [],
   "source": [
    "predictions = model.predict(X_knn_test)\n",
    "score = model.score(X_knn_test, y_knn_test)"
   ]
  },
  {
   "cell_type": "code",
   "execution_count": 68,
   "id": "1a2b60d5",
   "metadata": {},
   "outputs": [
    {
     "data": {
      "text/plain": [
       "0.9383126700937405"
      ]
     },
     "execution_count": 68,
     "metadata": {},
     "output_type": "execute_result"
    }
   ],
   "source": [
    "score"
   ]
  },
  {
   "cell_type": "markdown",
   "id": "4ec250e2",
   "metadata": {},
   "source": [
    "### 5.3. Evaluate the model"
   ]
  },
  {
   "cell_type": "code",
   "execution_count": 48,
   "id": "0d4f5797",
   "metadata": {},
   "outputs": [
    {
     "data": {
      "text/plain": [
       "0.7101426053517065"
      ]
     },
     "execution_count": 48,
     "metadata": {},
     "output_type": "execute_result"
    }
   ],
   "source": [
    "#Imbalanced data\n",
    "classification.score(X_id_test, y_id_test)"
   ]
  },
  {
   "cell_type": "code",
   "execution_count": 69,
   "id": "ff844648",
   "metadata": {},
   "outputs": [
    {
     "data": {
      "text/plain": [
       "0.6973087390384034"
      ]
     },
     "execution_count": 69,
     "metadata": {},
     "output_type": "execute_result"
    }
   ],
   "source": [
    "#KNN\n",
    "classification.score(X_knn_test, y_knn_test)"
   ]
  },
  {
   "cell_type": "code",
   "execution_count": 50,
   "id": "d75361a1",
   "metadata": {},
   "outputs": [],
   "source": [
    "# to get predictions id\n",
    "predictions_id = classification.predict(X_id_test)"
   ]
  },
  {
   "cell_type": "code",
   "execution_count": 70,
   "id": "07ae9882",
   "metadata": {},
   "outputs": [],
   "source": [
    "# to get predictions knn\n",
    "predictions_knn = classification.predict(X_knn_test)"
   ]
  },
  {
   "cell_type": "code",
   "execution_count": 52,
   "id": "2e975173",
   "metadata": {},
   "outputs": [
    {
     "data": {
      "text/plain": [
       "array([[2189, 1011],\n",
       "       [ 798, 2243]], dtype=int64)"
      ]
     },
     "execution_count": 52,
     "metadata": {},
     "output_type": "execute_result"
    }
   ],
   "source": [
    "confusion_matrix(y_id_test, predictions_id)"
   ]
  },
  {
   "cell_type": "code",
   "execution_count": 71,
   "id": "3aa54ee3",
   "metadata": {},
   "outputs": [
    {
     "data": {
      "text/plain": [
       "array([[2159,  947],\n",
       "       [  54,  147]], dtype=int64)"
      ]
     },
     "execution_count": 71,
     "metadata": {},
     "output_type": "execute_result"
    }
   ],
   "source": [
    "confusion_matrix(y_knn_test, predictions_knn)"
   ]
  },
  {
   "cell_type": "code",
   "execution_count": 54,
   "id": "b5f985b4",
   "metadata": {},
   "outputs": [],
   "source": [
    "cf_matrix_id = confusion_matrix(y_id_test, predictions_id, normalize='all')"
   ]
  },
  {
   "cell_type": "code",
   "execution_count": 72,
   "id": "37db7742",
   "metadata": {},
   "outputs": [],
   "source": [
    "cf_matrix_knn = confusion_matrix(y_knn_test, predictions_knn, normalize='all')"
   ]
  },
  {
   "cell_type": "code",
   "execution_count": 56,
   "id": "7bd43c6f",
   "metadata": {},
   "outputs": [
    {
     "data": {
      "text/plain": [
       "<AxesSubplot:>"
      ]
     },
     "execution_count": 56,
     "metadata": {},
     "output_type": "execute_result"
    },
    {
     "data": {
      "image/png": "[encoded data removed]",
      "text/plain": [
       "<Figure size 432x288 with 2 Axes>"
      ]
     },
     "metadata": {
      "needs_background": "light"
     },
     "output_type": "display_data"
    }
   ],
   "source": [
    "#Confusion matrix Imbalanced Data\n",
    "group_names_id = ['True No', 'False No', 'False Yes', 'True Yes']\n",
    "group_counts_id = [\"{0:0.2f}\".format(value) for value in cf_matrix_id.flatten()]\n",
    "group_percentages_id = [\"{0:.2%}\".format(value) for value in cf_matrix_id.flatten()/np.sum(cf_matrix_id)]\n",
    "labels_id = [f\"{v1}\\n{v3}\" for v1, v3 in zip(group_names_id,group_percentages_id)]\n",
    "labels_id = np.asarray(labels_id).reshape(2,2)\n",
    "sns.heatmap(cf_matrix_id, annot=labels_id, fmt='', cmap='Blues')"
   ]
  },
  {
   "cell_type": "code",
   "execution_count": 73,
   "id": "d5518c38",
   "metadata": {},
   "outputs": [
    {
     "data": {
      "text/plain": [
       "<AxesSubplot:>"
      ]
     },
     "execution_count": 73,
     "metadata": {},
     "output_type": "execute_result"
    },
    {
     "data": {
      "image/png": "[encoded data removed]",
      "text/plain": [
       "<Figure size 432x288 with 2 Axes>"
      ]
     },
     "metadata": {
      "needs_background": "light"
     },
     "output_type": "display_data"
    }
   ],
   "source": [
    "#Confusion matrix KNN\n",
    "group_names_knn = ['True No', 'False No', 'False Yes', 'True Yes']\n",
    "group_counts_knn = [\"{0:0.2f}\".format(value) for value in cf_matrix_knn.flatten()]\n",
    "group_percentages_knn = [\"{0:.2%}\".format(value) for value in cf_matrix_knn.flatten()/np.sum(cf_matrix_knn)]\n",
    "labels_knn = [f\"{v1}\\n{v3}\" for v1, v3 in zip(group_names_knn,group_percentages_knn)]\n",
    "labels_knn = np.asarray(labels_knn).reshape(2,2)\n",
    "sns.heatmap(cf_matrix_knn, annot=labels_knn, fmt='', cmap='Blues')"
   ]
  },
  {
   "cell_type": "markdown",
   "id": "87a78223",
   "metadata": {},
   "source": [
    "### Logistic Regression Metrics\n",
    "\n",
    "Concepts:\n",
    "- Sensitivity: True Positives rate = TP/(TP+FN)\n",
    "- Specificity: True Negatives rate = TN/(TN+FP)\n",
    "\n",
    "There are many metrics to aid us on evaluating our model. \n",
    "Some famous ones are:\n",
    "- Accuracy = (TP + TN)/(TP+TN+FP+FN);\n",
    "- AUC-ROC (Area Under the Curve - Receiver Operating Characteristics);\n",
    "- F1 score = 2*(precision * recall)/(precision+recall);\n",
    "- Precision = TP/(TP+FP) - when you rather be sure it is a positive;\n",
    "- Recall (sensitivity) = TP/(TP+FN) - when we want to get most positives as possible.\n",
    "\n",
    "More metrics and when to use each: [here](https://towardsdatascience.com/the-5-classification-evaluation-metrics-you-must-know-aa97784ff226)."
   ]
  },
  {
   "cell_type": "markdown",
   "id": "8beac1a5",
   "metadata": {},
   "source": [
    "#### 5.3.1. AUC-ROC\n",
    "\n",
    "Explains how well separated are the probabilities of the classes. Plots True Positive vs False Positive, and calculates the area under the curve: </br>\n",
    "Resource to help understand ROC-AUC curve [here](https://www.youtube.com/watch?v=4jRBRDbJemM)"
   ]
  },
  {
   "cell_type": "code",
   "execution_count": 58,
   "id": "5be53b50",
   "metadata": {},
   "outputs": [],
   "source": [
    "def plot_multiclass_roc(clf, X_test, y_test, n_classes, figsize=(17, 6)):\n",
    "    y_score = clf.decision_function(X_test)\n",
    "\n",
    "    # structures\n",
    "    fpr = dict()\n",
    "    tpr = dict()\n",
    "    roc_auc = dict()\n",
    "\n",
    "    # calculate dummies once\n",
    "    y_test_dummies = pd.get_dummies(y_test, drop_first=False).values\n",
    "    for i in range(n_classes):\n",
    "        fpr[i], tpr[i], _ = metrics.roc_curve(y_test_dummies[:, i], y_score)\n",
    "        roc_auc[i] = metrics.auc(fpr[i], tpr[i])\n",
    "\n",
    "    # roc for each class\n",
    "    fig, ax = plt.subplots(figsize=figsize)\n",
    "    ax.plot([0, 1], [0, 1], 'k--')\n",
    "    ax.set_xlim([0.0, 1.0])\n",
    "    ax.set_ylim([0.0, 1.05])\n",
    "    ax.set_xlabel('False Positive Rate')\n",
    "    ax.set_ylabel('True Positive Rate')\n",
    "    ax.set_title('Receiver operating characteristic example')\n",
    "    for i in range(n_classes):\n",
    "        ax.plot(fpr[i], tpr[i], label='ROC curve (area = %0.2f) for label %i' % (roc_auc[i], i))\n",
    "    ax.legend(loc=\"best\")\n",
    "    ax.grid(alpha=.4)\n",
    "    sns.despine()\n",
    "    plt.show()"
   ]
  },
  {
   "cell_type": "code",
   "execution_count": 59,
   "id": "e07b725f",
   "metadata": {},
   "outputs": [
    {
     "data": {
      "image/png": "[encoded data removed]",
      "text/plain": [
       "<Figure size 864x432 with 1 Axes>"
      ]
     },
     "metadata": {
      "needs_background": "light"
     },
     "output_type": "display_data"
    }
   ],
   "source": [
    "#Imbalanced data\n",
    "plot_multiclass_roc(classification, X_id_test, y_id_test, n_classes=2, figsize=(12, 6))"
   ]
  },
  {
   "cell_type": "code",
   "execution_count": 74,
   "id": "a319bb4e",
   "metadata": {},
   "outputs": [
    {
     "data": {
      "image/png": "[encoded data removed]",
      "text/plain": [
       "<Figure size 864x432 with 1 Axes>"
      ]
     },
     "metadata": {
      "needs_background": "light"
     },
     "output_type": "display_data"
    }
   ],
   "source": [
    "#KNN\n",
    "plot_multiclass_roc(classification, X_knn_test, y_knn_test, n_classes=2, figsize=(12, 6))"
   ]
  },
  {
   "cell_type": "markdown",
   "id": "d7e396bb",
   "metadata": {},
   "source": [
    "#### 5.3.2. Classification Report"
   ]
  },
  {
   "cell_type": "code",
   "execution_count": 61,
   "id": "f0acc7b6",
   "metadata": {},
   "outputs": [
    {
     "name": "stdout",
     "output_type": "stream",
     "text": [
      "              precision    recall  f1-score   support\n",
      "\n",
      "          No       0.73      0.68      0.71      3200\n",
      "         Yes       0.69      0.74      0.71      3041\n",
      "\n",
      "    accuracy                           0.71      6241\n",
      "   macro avg       0.71      0.71      0.71      6241\n",
      "weighted avg       0.71      0.71      0.71      6241\n",
      "\n"
     ]
    }
   ],
   "source": [
    "#Imbalanced data\n",
    "print(metrics.classification_report(y_id_test, predictions_id))"
   ]
  },
  {
   "cell_type": "code",
   "execution_count": 75,
   "id": "1daac7cd",
   "metadata": {},
   "outputs": [
    {
     "name": "stdout",
     "output_type": "stream",
     "text": [
      "              precision    recall  f1-score   support\n",
      "\n",
      "          No       0.98      0.70      0.81      3106\n",
      "         Yes       0.13      0.73      0.23       201\n",
      "\n",
      "    accuracy                           0.70      3307\n",
      "   macro avg       0.55      0.71      0.52      3307\n",
      "weighted avg       0.92      0.70      0.78      3307\n",
      "\n"
     ]
    }
   ],
   "source": [
    "#KNN\n",
    "print(metrics.classification_report(y_knn_test, predictions_knn))"
   ]
  },
  {
   "cell_type": "markdown",
   "id": "ba20ffd3",
   "metadata": {},
   "source": [
    "#### Conclusion\n",
    "\n",
    "- KNN model\n",
    "Even if the KNN model presents a high precision for 'No' (0.98), the precision for 'Yes' (0.13) is low.\n",
    "This volatility is also present at the F1-score metric.\n",
    "Regarding accuracy, the observed levels are lower when comparing to the other model.\n",
    "\n",
    "- Imbalanced model\n",
    "By the other hand, the Imbalanced data model shows more consistency presenting precisions of 0.73 and 0.69 for 'No' and 'Yes', recpectively.\n",
    "This behaviour could also be seen at other metrics as accuracy, recall and F1-score.\n",
    "\n",
    "- Chosen model\n",
    "Based on that, the Imbalanced data model has a better fit for the data set."
   ]
  },
  {
   "cell_type": "markdown",
   "id": "fbc34853",
   "metadata": {},
   "source": [
    "- Accuracy\n",
    "\n",
    "Is the proportion of true results among the total number of cases examined.\n",
    "When to use?\n",
    "Accuracy is a valid choice of evaluation for classification problems which are well balanced and not skewed or No class imbalance.\n",
    "\n",
    "- Precision\n",
    "\n",
    "Is the proportion of predicted Positives is truly Positive.\n",
    "When to use?\n",
    "Precision is a valid choice of evaluation metric when we want to be very sure of our prediction.\n",
    "\n",
    "- Recall\n",
    "\n",
    "Is the proportion of actual Positives is correctly classified.\n",
    "When to use?\n",
    "Recall is a valid choice of evaluation metric when we want to capture as many positives as possible. \n",
    "\n",
    "- F1Score\n",
    "\n",
    "The F1 score is a number between 0 and 1 and is the harmonic mean of precision and recall.\n",
    "When to use?\n",
    "We want to have a model with both good precision and recall.\n",
    "\n",
    "- AUC\n",
    "\n",
    "AUC is the area under the ROC curve.AUC ROC indicates how well the probabilities from the positive classes are separated from the negative classes.\n",
    "When to Use?\n",
    "AUC is scale-invariant. It measures how well predictions are ranked, rather than their absolute values."
   ]
  }
 ],
 "metadata": {
  "kernelspec": {
   "display_name": "Python 3",
   "language": "python",
   "name": "python3"
  },
  "language_info": {
   "codemirror_mode": {
    "name": "ipython",
    "version": 3
   },
   "file_extension": ".py",
   "mimetype": "text/x-python",
   "name": "python",
   "nbconvert_exporter": "python",
   "pygments_lexer": "ipython3",
   "version": "3.8.8"
  }
 },
 "nbformat": 4,
 "nbformat_minor": 5
}
